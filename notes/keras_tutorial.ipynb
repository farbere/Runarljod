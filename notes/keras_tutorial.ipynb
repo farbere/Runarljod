{
 "cells": [
  {
   "cell_type": "code",
   "execution_count": 2,
   "id": "e70c6cde",
   "metadata": {},
   "outputs": [],
   "source": [
    "import numpy as np\n",
    "import tensorflow as tf\n",
    "import pandas as pd\n",
    "import matplotlib.pyplot as plt"
   ]
  },
  {
   "cell_type": "markdown",
   "id": "b5ea2ce7",
   "metadata": {},
   "source": [
    "<h3>Keras models and training</h3>\n",
    "\n",
    "API documentation homepage: https://www.tensorflow.org/api_docs/python/tf?hl=en\n",
    "\n",
    "Intro to Keras tutorial: https://www.tensorflow.org/tutorials/keras/classification (with 'fashion MNIST' below)"
   ]
  },
  {
   "cell_type": "code",
   "execution_count": 3,
   "id": "eddadaa5",
   "metadata": {},
   "outputs": [],
   "source": [
    "fashion_mnist = tf.keras.datasets.fashion_mnist"
   ]
  },
  {
   "cell_type": "code",
   "execution_count": 4,
   "id": "494883e2",
   "metadata": {},
   "outputs": [],
   "source": [
    "(fashion_train_images, fashion_train_labels), (fashion_test_images, fashion_test_labels) = fashion_mnist.load_data()"
   ]
  },
  {
   "cell_type": "code",
   "execution_count": 5,
   "id": "73d241e2",
   "metadata": {},
   "outputs": [],
   "source": [
    "class_names = ['T-shirt/top', 'Trouser', 'Pullover', 'Dress', 'Coat', 'Sandal', 'Shirt', 'Sneaker', 'Bag', 'Ankle boot']"
   ]
  },
  {
   "cell_type": "code",
   "execution_count": 6,
   "id": "9d4b6d3d",
   "metadata": {},
   "outputs": [],
   "source": [
    "fashion_train_images = fashion_train_images/255\n",
    "fashion_test_images = fashion_test_images/255"
   ]
  },
  {
   "cell_type": "markdown",
   "id": "50ee8bda",
   "metadata": {},
   "source": [
    "The following constructs a feed-forward ('sequential') network with some specified layers. Keras' Dense layer is a fully-connected layer; that is, each of its units (neurons) sees every output from the previous layer.\n",
    "\n",
    "https://www.tensorflow.org/api_docs/python/tf/keras/layers/Dense?hl=en\n",
    "\n",
    "ReLU is probably the most popular activation function at this time, and there may be some theoretical reasons supporting this. tanh is another option; it's simply the logistic function (Keras: 'sigmoid') with its values symmetrised, so that tanh(x) lies between -1 and 1, and tanh(0) = 0. There are others that have been used. If the layer is not given an activation argument, then its output is simply a linear transformation of its inputs (that is, the activation function is the identity f(x) = x)."
   ]
  },
  {
   "cell_type": "code",
   "execution_count": 6,
   "id": "7500f408",
   "metadata": {},
   "outputs": [],
   "source": [
    "model = tf.keras.Sequential([tf.keras.layers.Flatten(input_shape = (28,28)),  # Dense expects 1D input\n",
    "                            tf.keras.layers.Dense(128, activation='relu'), \n",
    "                            tf.keras.layers.Dense(10),\n",
    "                            tf.keras.layers.Softmax()])"
   ]
  },
  {
   "cell_type": "code",
   "execution_count": 7,
   "id": "98f168f1",
   "metadata": {},
   "outputs": [],
   "source": [
    "# if you want to leave out the Softmax layer above, add argument from_logits=True to the loss function here. I don't know\n",
    "# whether it makes any difference.\n",
    "model.compile(optimizer='adam',\n",
    "              loss=tf.keras.losses.SparseCategoricalCrossentropy(),\n",
    "              metrics=['accuracy'])"
   ]
  },
  {
   "cell_type": "code",
   "execution_count": 8,
   "id": "2467b89f",
   "metadata": {},
   "outputs": [
    {
     "name": "stdout",
     "output_type": "stream",
     "text": [
      "Epoch 1/10\n",
      "1875/1875 [==============================] - 3s 1ms/step - loss: 0.4972 - accuracy: 0.8250\n",
      "Epoch 2/10\n",
      "1875/1875 [==============================] - 2s 1ms/step - loss: 0.3709 - accuracy: 0.8668\n",
      "Epoch 3/10\n",
      "1875/1875 [==============================] - 2s 1ms/step - loss: 0.3336 - accuracy: 0.8775\n",
      "Epoch 4/10\n",
      "1875/1875 [==============================] - 2s 1ms/step - loss: 0.3101 - accuracy: 0.8868\n",
      "Epoch 5/10\n",
      "1875/1875 [==============================] - 2s 1ms/step - loss: 0.2926 - accuracy: 0.8917\n",
      "Epoch 6/10\n",
      "1875/1875 [==============================] - 2s 1ms/step - loss: 0.2780 - accuracy: 0.8969\n",
      "Epoch 7/10\n",
      "1875/1875 [==============================] - 2s 1ms/step - loss: 0.2646 - accuracy: 0.9013\n",
      "Epoch 8/10\n",
      "1875/1875 [==============================] - 2s 1ms/step - loss: 0.2522 - accuracy: 0.9062\n",
      "Epoch 9/10\n",
      "1875/1875 [==============================] - 2s 1ms/step - loss: 0.2460 - accuracy: 0.9090\n",
      "Epoch 10/10\n",
      "1875/1875 [==============================] - 2s 1ms/step - loss: 0.2340 - accuracy: 0.9124\n"
     ]
    },
    {
     "data": {
      "text/plain": [
       "<keras.callbacks.History at 0x1c736846370>"
      ]
     },
     "execution_count": 8,
     "metadata": {},
     "output_type": "execute_result"
    }
   ],
   "source": [
    "# the default batch_size is 32\n",
    "model.fit(fashion_train_images, fashion_train_labels, epochs=10)"
   ]
  },
  {
   "cell_type": "code",
   "execution_count": 9,
   "id": "06807312",
   "metadata": {},
   "outputs": [
    {
     "name": "stdout",
     "output_type": "stream",
     "text": [
      "313/313 - 0s - loss: 0.3370 - accuracy: 0.8834 - 412ms/epoch - 1ms/step\n"
     ]
    }
   ],
   "source": [
    "# score the model on the held-out set\n",
    "test_loss, test_acc = model.evaluate(fashion_test_images,  fashion_test_labels, verbose=2)"
   ]
  },
  {
   "cell_type": "code",
   "execution_count": 10,
   "id": "66342411",
   "metadata": {},
   "outputs": [
    {
     "name": "stdout",
     "output_type": "stream",
     "text": [
      "313/313 [==============================] - 0s 808us/step\n"
     ]
    }
   ],
   "source": [
    "predictions=model.predict(fashion_test_images)"
   ]
  },
  {
   "cell_type": "code",
   "execution_count": 12,
   "id": "75699314",
   "metadata": {},
   "outputs": [],
   "source": [
    "# if you want to take a closer look...\n",
    "pred_df = pd.DataFrame(predictions)\n",
    "pred_df['choice'] = pred_df.apply(np.argmax, axis=1)\n",
    "pred_df['real'] = fashion_test_labels\n",
    "errors = pred_df.loc[pred_df.choice != pred_df.real]"
   ]
  },
  {
   "cell_type": "markdown",
   "id": "4ffdc957",
   "metadata": {},
   "source": [
    "The next few cells are some plotting routines from the tutorial to visualise some of the results given by the model."
   ]
  },
  {
   "cell_type": "code",
   "execution_count": 13,
   "id": "eb8a6ad8",
   "metadata": {},
   "outputs": [],
   "source": [
    "def plot_image(i, predictions_array, true_label, img):\n",
    "  true_label, img = true_label[i], img[i]\n",
    "  plt.grid(False)\n",
    "  plt.xticks([])\n",
    "  plt.yticks([])\n",
    "\n",
    "  plt.imshow(img, cmap=plt.cm.binary)\n",
    "\n",
    "  predicted_label = np.argmax(predictions_array)\n",
    "  if predicted_label == true_label:\n",
    "    color = 'blue'\n",
    "  else:\n",
    "    color = 'red'\n",
    "\n",
    "  plt.xlabel(\"{} {:2.0f}% ({})\".format(class_names[predicted_label],\n",
    "                                100*np.max(predictions_array),\n",
    "                                class_names[true_label]),\n",
    "                                color=color)\n",
    "\n",
    "def plot_value_array(i, predictions_array, true_label):\n",
    "  true_label = true_label[i]\n",
    "  plt.grid(False)\n",
    "  plt.xticks(range(10))\n",
    "  plt.yticks([])\n",
    "  thisplot = plt.bar(range(10), predictions_array, color=\"#777777\")\n",
    "  plt.ylim([0, 1])\n",
    "  predicted_label = np.argmax(predictions_array)\n",
    "\n",
    "  thisplot[predicted_label].set_color('red')\n",
    "  thisplot[true_label].set_color('blue')"
   ]
  },
  {
   "cell_type": "code",
   "execution_count": null,
   "id": "0095cbfc",
   "metadata": {},
   "outputs": [],
   "source": [
    "for i in range(0,13):\n",
    "    plt.figure(figsize=(6,3))\n",
    "    plt.subplot(1,2,1)\n",
    "    plot_image(i, predictions[i], fashion_test_labels, fashion_test_images)\n",
    "    plt.subplot(1,2,2)\n",
    "    plot_value_array(i, predictions[i],  fashion_test_labels)\n",
    "    plt.show()"
   ]
  },
  {
   "cell_type": "code",
   "execution_count": null,
   "id": "41d43ec9",
   "metadata": {},
   "outputs": [],
   "source": [
    "num_rows = 5\n",
    "num_cols = 3\n",
    "num_images = num_rows*num_cols\n",
    "plt.figure(figsize=(2*2*num_cols, 2*num_rows))\n",
    "for i in range(num_images):\n",
    "  plt.subplot(num_rows, 2*num_cols, 2*i+1)\n",
    "  plot_image(i, predictions[i], fashion_test_labels, fashion_test_images)\n",
    "  plt.subplot(num_rows, 2*num_cols, 2*i+2)\n",
    "  plot_value_array(i, predictions[i], fashion_test_labels)\n",
    "plt.tight_layout()\n",
    "plt.show()"
   ]
  },
  {
   "cell_type": "markdown",
   "id": "d045bec9",
   "metadata": {},
   "source": [
    "<h3>Keras Hyperparameters Tuner</h3>\n",
    "\n",
    "With a vast number of possible model configurations and hyperparameters it can be tedious and discouraging to try to explore the permutations manually. KerasTuner takes in a recipe, with specified variables, for making a model and tries out variations. \n",
    "\n",
    "The recipe is given a Hyperparameters object, which contains various methods that tell the tuner what data type and allowed values a given variable has. In the example below, the hp.Int() method creates an integer variable ranging from 32 to 512 in steps of 32. The method hp.Choice() can be used for categorical choices or numerical choices with irregular spacing. It simply takes in a list of allowed values from which the tuner will choose. There are a few more such methods. The first argument to each of these methods is a string giving the name the variable will get when the tuner makes its reports.\n",
    "\n",
    "KerasTuner API: https://keras.io/api/keras_tuner/\n",
    "KerasTuner tutorial: https://www.tensorflow.org/tutorials/keras/keras_tuner?hl=en (again with 'fashion MNIST' below)\n",
    "\n",
    "Hyperparameters doc: https://keras.io/api/keras_tuner/hyperparameters"
   ]
  },
  {
   "cell_type": "code",
   "execution_count": 17,
   "id": "3262b4fb",
   "metadata": {},
   "outputs": [],
   "source": [
    "import keras_tuner as kt"
   ]
  },
  {
   "cell_type": "code",
   "execution_count": 18,
   "id": "489a40e8",
   "metadata": {},
   "outputs": [],
   "source": [
    "def model_builder(hp):\n",
    "  model = tf.keras.Sequential()\n",
    "  model.add(tf.keras.layers.Flatten(input_shape=(28, 28)))\n",
    "\n",
    "  # Tune the number of units in the first Dense layer\n",
    "  hp_units = hp.Int('units', min_value=32, max_value=512, step=32)\n",
    "  model.add(tf.keras.layers.Dense(units=hp_units, activation='relu'))\n",
    "  model.add(tf.keras.layers.Dense(10))\n",
    "\n",
    "  # Tune the learning rate for the optimizer\n",
    "  hp_learning_rate = hp.Choice('learning_rate', values=[1e-2, 1e-3, 1e-4])\n",
    "\n",
    "  model.compile(optimizer=tf.keras.optimizers.Adam(learning_rate=hp_learning_rate),\n",
    "                loss=tf.keras.losses.SparseCategoricalCrossentropy(from_logits=True),\n",
    "                metrics=['accuracy'])\n",
    "\n",
    "  return model"
   ]
  },
  {
   "cell_type": "markdown",
   "id": "3ed30aa4",
   "metadata": {},
   "source": [
    "KerasTuner has a few discrete search routines to explore the hyperparameter space you defined: random search, Bayesian optimisation, and an algorithm called Hyperbandit. The tutorial uses Hyperbandit.\n",
    "\n",
    "The arguments <i>directory</i> and <i>project_name</i> below will save everything the model does to disk. They can be omitted. As a caution, the saved data may take up a lot of space as the size of the NN tested grows. I assume this happens because it's saving network weights to disk, but I haven't been able to figure out how to retrieve them. It probably does not matter.\n",
    "\n",
    "Tuner docs: https://keras.io/api/keras_tuner/tuners/"
   ]
  },
  {
   "cell_type": "code",
   "execution_count": 19,
   "id": "30182f82",
   "metadata": {},
   "outputs": [],
   "source": [
    "tuner = kt.Hyperband(model_builder,\n",
    "                     objective='val_accuracy',\n",
    "                     max_epochs=10,\n",
    "                     factor=3,\n",
    "                     directory='my_dir',\n",
    "                     project_name='intro_to_kt')"
   ]
  },
  {
   "cell_type": "code",
   "execution_count": 20,
   "id": "b8eb709c",
   "metadata": {},
   "outputs": [],
   "source": [
    "stop_early = tf.keras.callbacks.EarlyStopping(monitor='val_loss', patience=3)"
   ]
  },
  {
   "cell_type": "markdown",
   "id": "0ef87a45",
   "metadata": {},
   "source": [
    "Here is a <b>warning</b>: the tutorial (on the webpage) passes an argument <i>validation_split</i> to the tuner search below. One may suppose this means the tuner will make a split of the data given to it. It does <i>not</i> do so; it appears that actually the keyword is undefined here. By default the tuner simply uses the training data given to it to compute its \"validation\" statistics. The correct way to specify validation data for the search is to pass a pair\n",
    "\n",
    "    validation_data = (val_features, val_labels)\n",
    "    \n",
    "In this example we'll just use the test set already provided. As a reminder, for real applications we must make a split within the training data for this. The alternative is to invite overfitting hyperparameters."
   ]
  },
  {
   "cell_type": "code",
   "execution_count": 21,
   "id": "b436a3be",
   "metadata": {},
   "outputs": [
    {
     "name": "stdout",
     "output_type": "stream",
     "text": [
      "Trial 30 Complete [00h 00m 31s]\n",
      "val_accuracy: 0.8830999732017517\n",
      "\n",
      "Best val_accuracy So Far: 0.8830999732017517\n",
      "Total elapsed time: 00h 07m 05s\n",
      "INFO:tensorflow:Oracle triggered exit\n"
     ]
    }
   ],
   "source": [
    "# the callback here will automatically end the search if its condition is met, that a model does not improve its loss\n",
    "# on the validation set after a set number of training epochs. You can also end it mid-search by interrupting the python \n",
    "# kernel; it retains the results up to that time.\n",
    "tuner.search(fashion_train_images, fashion_train_labels, \n",
    "             validation_data = (fashion_test_images, fashion_test_labels), \n",
    "             callbacks=[stop_early])"
   ]
  },
  {
   "cell_type": "markdown",
   "id": "95e9216a",
   "metadata": {},
   "source": [
    "Passing an integer to the Tuner method .get_best_hyperparameters() will give you that many of the top results encountered during the search. For the Bayes search this does not appear to be helpful. This is because essentially it tries to fine-tune the hyperparameters by looking at a lot of models around where it gets good results. Consequently, the top entries of this list may be very close or even identical. Hyperbandit is slightly better in this regard, since its algorithm also tries to explore new parts of the hyperparameter space.\n",
    "\n",
    "In any case, the method .results_summary() will print a bunch of the top models. This summary also includes their scores on the search objective (here, <i>val_accuracy</i>).\n",
    "\n",
    "Of course, there is no guarantee that the search will actually find any or all of the \"best\" models. More, the result of training them depends on their random weight initialisation. The tuner just tries things and reports on them."
   ]
  },
  {
   "cell_type": "code",
   "execution_count": 22,
   "id": "c50a870c",
   "metadata": {},
   "outputs": [],
   "source": [
    "best_hps=tuner.get_best_hyperparameters()[0]\n",
    "# tuner.get_best_hyperparameters()[0].values gives you the underlying dict, with keys the variable names you chose."
   ]
  },
  {
   "cell_type": "code",
   "execution_count": 23,
   "id": "6c379001",
   "metadata": {},
   "outputs": [
    {
     "name": "stdout",
     "output_type": "stream",
     "text": [
      "\n",
      "The hyperparameter search is complete. The optimal number of units in the first densely-connected\n",
      "layer is 160 and the optimal learning rate for the optimizer\n",
      "is 0.001.\n",
      "\n"
     ]
    }
   ],
   "source": [
    "print(f\"\"\"\n",
    "The hyperparameter search is complete. The optimal number of units in the first densely-connected\n",
    "layer is {best_hps.get('units')} and the optimal learning rate for the optimizer\n",
    "is {best_hps.get('learning_rate')}.\n",
    "\"\"\")"
   ]
  },
  {
   "cell_type": "code",
   "execution_count": 24,
   "id": "eda6efd0",
   "metadata": {},
   "outputs": [
    {
     "name": "stdout",
     "output_type": "stream",
     "text": [
      "Epoch 1/50\n",
      "1500/1500 [==============================] - 3s 2ms/step - loss: 0.5144 - accuracy: 0.8209 - val_loss: 0.4043 - val_accuracy: 0.8538\n",
      "Epoch 2/50\n",
      "1500/1500 [==============================] - 2s 2ms/step - loss: 0.3835 - accuracy: 0.8621 - val_loss: 0.3673 - val_accuracy: 0.8690\n",
      "Epoch 3/50\n",
      "1500/1500 [==============================] - 2s 2ms/step - loss: 0.3439 - accuracy: 0.8739 - val_loss: 0.3462 - val_accuracy: 0.8768\n",
      "Epoch 4/50\n",
      "1500/1500 [==============================] - 2s 2ms/step - loss: 0.3146 - accuracy: 0.8823 - val_loss: 0.3354 - val_accuracy: 0.8813\n",
      "Epoch 5/50\n",
      "1500/1500 [==============================] - 2s 2ms/step - loss: 0.2954 - accuracy: 0.8907 - val_loss: 0.3326 - val_accuracy: 0.8819\n",
      "Epoch 6/50\n",
      "1500/1500 [==============================] - 2s 2ms/step - loss: 0.2821 - accuracy: 0.8963 - val_loss: 0.3444 - val_accuracy: 0.8775\n",
      "Epoch 7/50\n",
      "1500/1500 [==============================] - 2s 2ms/step - loss: 0.2710 - accuracy: 0.8989 - val_loss: 0.3356 - val_accuracy: 0.8802\n",
      "Epoch 8/50\n",
      "1500/1500 [==============================] - 2s 2ms/step - loss: 0.2582 - accuracy: 0.9037 - val_loss: 0.3222 - val_accuracy: 0.8852\n",
      "Epoch 9/50\n",
      "1500/1500 [==============================] - 2s 2ms/step - loss: 0.2450 - accuracy: 0.9085 - val_loss: 0.3215 - val_accuracy: 0.8827\n",
      "Epoch 10/50\n",
      "1500/1500 [==============================] - 2s 2ms/step - loss: 0.2365 - accuracy: 0.9125 - val_loss: 0.3182 - val_accuracy: 0.8885\n",
      "Epoch 11/50\n",
      "1500/1500 [==============================] - 2s 2ms/step - loss: 0.2295 - accuracy: 0.9144 - val_loss: 0.3195 - val_accuracy: 0.8900\n",
      "Epoch 12/50\n",
      "1500/1500 [==============================] - 2s 2ms/step - loss: 0.2232 - accuracy: 0.9152 - val_loss: 0.3191 - val_accuracy: 0.8913\n",
      "Epoch 13/50\n",
      "1500/1500 [==============================] - 2s 2ms/step - loss: 0.2111 - accuracy: 0.9199 - val_loss: 0.3317 - val_accuracy: 0.8878\n",
      "Epoch 14/50\n",
      "1500/1500 [==============================] - 2s 2ms/step - loss: 0.2083 - accuracy: 0.9213 - val_loss: 0.3287 - val_accuracy: 0.8901\n",
      "Epoch 15/50\n",
      "1500/1500 [==============================] - 2s 2ms/step - loss: 0.1999 - accuracy: 0.9250 - val_loss: 0.3435 - val_accuracy: 0.8900\n",
      "Epoch 16/50\n",
      "1500/1500 [==============================] - 2s 2ms/step - loss: 0.1927 - accuracy: 0.9279 - val_loss: 0.3378 - val_accuracy: 0.8913\n",
      "Epoch 17/50\n",
      "1500/1500 [==============================] - 2s 2ms/step - loss: 0.1890 - accuracy: 0.9295 - val_loss: 0.3161 - val_accuracy: 0.8932\n",
      "Epoch 18/50\n",
      "1500/1500 [==============================] - 3s 2ms/step - loss: 0.1832 - accuracy: 0.9302 - val_loss: 0.3333 - val_accuracy: 0.8940\n",
      "Epoch 19/50\n",
      "1500/1500 [==============================] - 2s 2ms/step - loss: 0.1778 - accuracy: 0.9330 - val_loss: 0.3249 - val_accuracy: 0.8947\n",
      "Epoch 20/50\n",
      "1500/1500 [==============================] - 2s 2ms/step - loss: 0.1713 - accuracy: 0.9348 - val_loss: 0.3511 - val_accuracy: 0.8888\n",
      "Epoch 21/50\n",
      "1500/1500 [==============================] - 2s 2ms/step - loss: 0.1669 - accuracy: 0.9370 - val_loss: 0.3359 - val_accuracy: 0.8942\n",
      "Epoch 22/50\n",
      "1500/1500 [==============================] - 2s 2ms/step - loss: 0.1630 - accuracy: 0.9388 - val_loss: 0.3463 - val_accuracy: 0.8961\n",
      "Epoch 23/50\n",
      "1500/1500 [==============================] - 2s 2ms/step - loss: 0.1608 - accuracy: 0.9397 - val_loss: 0.3692 - val_accuracy: 0.8913\n",
      "Epoch 24/50\n",
      "1500/1500 [==============================] - 2s 2ms/step - loss: 0.1550 - accuracy: 0.9413 - val_loss: 0.3846 - val_accuracy: 0.8834\n",
      "Epoch 25/50\n",
      "1500/1500 [==============================] - 3s 2ms/step - loss: 0.1512 - accuracy: 0.9439 - val_loss: 0.3720 - val_accuracy: 0.8907\n",
      "Epoch 26/50\n",
      "1500/1500 [==============================] - 2s 2ms/step - loss: 0.1472 - accuracy: 0.9449 - val_loss: 0.3820 - val_accuracy: 0.8906\n",
      "Epoch 27/50\n",
      "1500/1500 [==============================] - 2s 2ms/step - loss: 0.1438 - accuracy: 0.9451 - val_loss: 0.3885 - val_accuracy: 0.8890\n",
      "Epoch 28/50\n",
      "1500/1500 [==============================] - 2s 2ms/step - loss: 0.1398 - accuracy: 0.9479 - val_loss: 0.3633 - val_accuracy: 0.8951\n",
      "Epoch 29/50\n",
      "1500/1500 [==============================] - 2s 2ms/step - loss: 0.1361 - accuracy: 0.9486 - val_loss: 0.3888 - val_accuracy: 0.8942\n",
      "Epoch 30/50\n",
      "1500/1500 [==============================] - 2s 2ms/step - loss: 0.1325 - accuracy: 0.9503 - val_loss: 0.3852 - val_accuracy: 0.8930\n",
      "Epoch 31/50\n",
      "1500/1500 [==============================] - 2s 2ms/step - loss: 0.1286 - accuracy: 0.9514 - val_loss: 0.3903 - val_accuracy: 0.8915\n",
      "Epoch 32/50\n",
      "1500/1500 [==============================] - 2s 2ms/step - loss: 0.1303 - accuracy: 0.9515 - val_loss: 0.3786 - val_accuracy: 0.8955\n",
      "Epoch 33/50\n",
      "1500/1500 [==============================] - 2s 2ms/step - loss: 0.1263 - accuracy: 0.9528 - val_loss: 0.3939 - val_accuracy: 0.8945\n",
      "Epoch 34/50\n",
      "1500/1500 [==============================] - 2s 2ms/step - loss: 0.1218 - accuracy: 0.9545 - val_loss: 0.4171 - val_accuracy: 0.8914\n",
      "Epoch 35/50\n",
      "1500/1500 [==============================] - 2s 2ms/step - loss: 0.1190 - accuracy: 0.9556 - val_loss: 0.4539 - val_accuracy: 0.8823\n",
      "Epoch 36/50\n",
      "1500/1500 [==============================] - 2s 2ms/step - loss: 0.1153 - accuracy: 0.9566 - val_loss: 0.4123 - val_accuracy: 0.8919\n",
      "Epoch 37/50\n",
      "1500/1500 [==============================] - 2s 2ms/step - loss: 0.1148 - accuracy: 0.9569 - val_loss: 0.4251 - val_accuracy: 0.8867\n",
      "Epoch 38/50\n",
      "1500/1500 [==============================] - 3s 2ms/step - loss: 0.1122 - accuracy: 0.9584 - val_loss: 0.4396 - val_accuracy: 0.8918\n",
      "Epoch 39/50\n",
      "1500/1500 [==============================] - 2s 2ms/step - loss: 0.1086 - accuracy: 0.9587 - val_loss: 0.4181 - val_accuracy: 0.8951\n",
      "Epoch 40/50\n",
      "1500/1500 [==============================] - 2s 2ms/step - loss: 0.1086 - accuracy: 0.9591 - val_loss: 0.4462 - val_accuracy: 0.8917\n",
      "Epoch 41/50\n",
      "1500/1500 [==============================] - 2s 2ms/step - loss: 0.1037 - accuracy: 0.9610 - val_loss: 0.4381 - val_accuracy: 0.8917\n",
      "Epoch 42/50\n",
      "1500/1500 [==============================] - 2s 2ms/step - loss: 0.1027 - accuracy: 0.9612 - val_loss: 0.4397 - val_accuracy: 0.8903\n",
      "Epoch 43/50\n",
      "1500/1500 [==============================] - 2s 2ms/step - loss: 0.1016 - accuracy: 0.9625 - val_loss: 0.4333 - val_accuracy: 0.8911\n",
      "Epoch 44/50\n",
      "1500/1500 [==============================] - 2s 2ms/step - loss: 0.0990 - accuracy: 0.9629 - val_loss: 0.4804 - val_accuracy: 0.8885\n",
      "Epoch 45/50\n",
      "1500/1500 [==============================] - 2s 2ms/step - loss: 0.0962 - accuracy: 0.9634 - val_loss: 0.4547 - val_accuracy: 0.8947\n",
      "Epoch 46/50\n",
      "1500/1500 [==============================] - 2s 2ms/step - loss: 0.0929 - accuracy: 0.9647 - val_loss: 0.4672 - val_accuracy: 0.8908\n",
      "Epoch 47/50\n",
      "1500/1500 [==============================] - 2s 2ms/step - loss: 0.0943 - accuracy: 0.9645 - val_loss: 0.4759 - val_accuracy: 0.8900\n",
      "Epoch 48/50\n",
      "1500/1500 [==============================] - 2s 2ms/step - loss: 0.0915 - accuracy: 0.9651 - val_loss: 0.4902 - val_accuracy: 0.8888\n",
      "Epoch 49/50\n",
      "1500/1500 [==============================] - 2s 2ms/step - loss: 0.0882 - accuracy: 0.9672 - val_loss: 0.4805 - val_accuracy: 0.8944\n",
      "Epoch 50/50\n",
      "1500/1500 [==============================] - 2s 2ms/step - loss: 0.0886 - accuracy: 0.9674 - val_loss: 0.5000 - val_accuracy: 0.8912\n"
     ]
    }
   ],
   "source": [
    "# For the model method .fit() the validation_split argument does what it's supposed to.\n",
    "model = tuner.hypermodel.build(best_hps)\n",
    "history = model.fit(fashion_train_images, fashion_train_labels, epochs=50, validation_split=0.2)"
   ]
  },
  {
   "cell_type": "code",
   "execution_count": 25,
   "id": "1ab9391e",
   "metadata": {},
   "outputs": [
    {
     "name": "stdout",
     "output_type": "stream",
     "text": [
      "Best epoch: 22\n"
     ]
    }
   ],
   "source": [
    "val_acc_per_epoch = history.history['val_accuracy']\n",
    "best_epoch = val_acc_per_epoch.index(max(val_acc_per_epoch)) + 1\n",
    "print('Best epoch: %d' % (best_epoch,))"
   ]
  },
  {
   "cell_type": "code",
   "execution_count": null,
   "id": "8fede134",
   "metadata": {},
   "outputs": [],
   "source": [
    "# you can fill up the screen with output doing this and find similar results\n",
    "hypermodel = tuner.hypermodel.build(best_hps)\n",
    "hypermodel.fit(fashion_train_images, fashion_train_labels, epochs=best_epoch, validation_split=0.2)"
   ]
  },
  {
   "cell_type": "code",
   "execution_count": 28,
   "id": "f7a22e1e",
   "metadata": {},
   "outputs": [
    {
     "name": "stdout",
     "output_type": "stream",
     "text": [
      "313/313 - 0s - loss: 0.5449 - accuracy: 0.8864 - 404ms/epoch - 1ms/step\n"
     ]
    }
   ],
   "source": [
    "# after using a subset of the training data to try to compare and optimise hyperparameter choices, there is the 'original' \n",
    "# test set to validate, or not, the results.\n",
    "test_loss, test_acc = model.evaluate(fashion_test_images, fashion_test_labels, verbose=2)"
   ]
  },
  {
   "cell_type": "markdown",
   "id": "1819ee68",
   "metadata": {},
   "source": [
    "<h3>Model testing: Convolution blocks and regularisation methods</h3>\n",
    "\n",
    "Below: trying out the API etc with the garg data set.\n",
    "\n",
    "Convolution layer docs: https://www.tensorflow.org/api_docs/python/tf/keras/layers/Conv2D?hl=en"
   ]
  },
  {
   "cell_type": "code",
   "execution_count": 29,
   "id": "ef79503b",
   "metadata": {},
   "outputs": [],
   "source": [
    "train_garg = pd.read_csv(\"sign_mnist_train.csv\")\n",
    "test_garg = pd.read_csv(\"sign_mnist_test.csv\")"
   ]
  },
  {
   "cell_type": "code",
   "execution_count": 30,
   "id": "53209966",
   "metadata": {},
   "outputs": [],
   "source": [
    "train_garg_square = train_garg.drop('label',axis=1).to_numpy().reshape((27455, 28, 28))\n",
    "test_garg_square = test_garg.drop('label',axis=1).to_numpy().reshape((7172,28,28))\n",
    "\n",
    "train_garg_square = np.float32(train_garg_square) / 255\n",
    "test_garg_square = np.float32(test_garg_square) / 255\n",
    "\n",
    "train_garg_labels = train_garg['label'].to_numpy()\n",
    "test_garg_labels = test_garg['label'].to_numpy()"
   ]
  },
  {
   "cell_type": "markdown",
   "id": "1b2d1ea5",
   "metadata": {},
   "source": [
    "The Hyperparameters method .conditional_scope() allows parts of the recipe to depend on earlier choices. "
   ]
  },
  {
   "cell_type": "code",
   "execution_count": 122,
   "id": "5edbfe4a",
   "metadata": {},
   "outputs": [],
   "source": [
    "def conv_model_builder(hp):\n",
    "    f_min, f_max, f_step = 8, 128, 8\n",
    "    layers_min, layers_max = 1, 4\n",
    "     \n",
    "    hp_filters = []\n",
    "    hp_rec_fields = []\n",
    "    hp_padding = []\n",
    "    hp_use_bias = []\n",
    "    hp_layers = hp.Int('conv_layers', min_value = layers_min, max_value = layers_max)\n",
    "    \n",
    "    model = tf.keras.Sequential()          \n",
    "    for i in range(0, hp_layers):\n",
    "        \"\"\" \n",
    "    I think the intended correct way to do this is to have the following in a code block starting\n",
    "        with hp.conditional_scope('conv_layers', list(range(0, hp_layers))):\n",
    "    but that raises an exception: \n",
    "        NotImplementedError:\n",
    "        Lists of stacks of conditions used during `explore_space()`.\n",
    "    Without conditional_scope when hp_layers < layers_max the tuner still chooses values for the variables in the \n",
    "    iterations of this loop that aren't triggered (it doesn't display them during the search process, but see the model\n",
    "    in the results_summary below with score 0.6954), and consequently treats as different instances of the same model. \n",
    "    Aside from being a waste of time, this may not interact well with the Hyperbandit algorithm.\n",
    "    \"\"\"\n",
    "        hp_filters.append(hp.Int('conv_filters_' + str(i), min_value = f_min, max_value = f_max, step = f_step))\n",
    "        hp_rec_fields.append(hp.Choice('rec_field_' + str(i), values = [3,5]))\n",
    "        hp_padding.append(hp.Choice('padding_' + str(i), values=['same','valid']))\n",
    "        hp_use_bias.append(hp.Boolean('use_bias_' + str(i)))\n",
    "        model.add(tf.keras.layers.Convolution2D(hp_filters[i], \n",
    "                                                hp_rec_fields[i], \n",
    "                                                padding=hp_padding[i], \n",
    "                                                use_bias=hp_use_bias[i],\n",
    "                                                input_shape = (28,28,1),\n",
    "                                                activation='tanh'))\n",
    "        # actually, the input_shape is only (28,28,1) for the bottom layer; I'm not sure why this syntax works, but\n",
    "        # it's possible (given how the documentation is worded) that this argument is just ignored in the later layers\n",
    "    model.add(tf.keras.layers.Flatten())\n",
    "    #hp_units = hp.Int('proj_dim', min_value=32, max_value=512, step=32)\n",
    "    #model.add(tf.keras.layers.Dense(units=hp_units))                       # linear projection layer\n",
    "    model.add(tf.keras.layers.Dense(25, activation='softmax'))   # output layer\n",
    "    \n",
    "    # the optimiser is part of the hypermodel too\n",
    "    hp_learning_rate = hp.Choice('learning_rate', values=[1e-2, 1e-3, 1e-4])\n",
    "\n",
    "    model.compile(optimizer=tf.keras.optimizers.Adam(learning_rate=hp_learning_rate),\n",
    "                loss=tf.keras.losses.SparseCategoricalCrossentropy(),\n",
    "                metrics=['accuracy'])\n",
    "\n",
    "    return model"
   ]
  },
  {
   "cell_type": "code",
   "execution_count": null,
   "id": "d26350b4",
   "metadata": {},
   "outputs": [],
   "source": [
    "# According to the documentation, a Hyperband search \"will run approximately max_epochs * (math.log(max_epochs, factor) ** 2) \n",
    "# cumulative epochs across all trials.\" \n",
    "conv_tuner_hypband = kt.Hyperband(conv_model_builder,\n",
    "                     objective='val_accuracy',\n",
    "                     max_epochs=20,\n",
    "                     factor=3)\n",
    "\n",
    "# since this dataset has 25 labels, uniform random guessing scores 0.04. this first callback is supposed to have the tuner \n",
    "# discard a model if it does not get at least 5% accuracy on the validation data (it happens from time to time that a model \n",
    "# gets stuck at the mean, effectively guessing each label with its frequency in the set, a bad local minimum). however, I'm \n",
    "# not altogether certain if/how it works. I do know that patience=0 does not do what I think it should.\n",
    "stop_failed = tf.keras.callbacks.EarlyStopping(monitor='val_accuracy', baseline=0.05, patience=1)\n",
    "stop_early = tf.keras.callbacks.EarlyStopping(monitor='val_loss', patience=3)\n",
    "callbacks = [stop_failed, stop_early]"
   ]
  },
  {
   "cell_type": "code",
   "execution_count": 64,
   "id": "1ebbd1aa",
   "metadata": {},
   "outputs": [
    {
     "name": "stdout",
     "output_type": "stream",
     "text": [
      "Trial 30 Complete [00h 06m 56s]\n",
      "val_accuracy: 0.6655047535896301\n",
      "\n",
      "Best val_accuracy So Far: 0.7143056392669678\n",
      "Total elapsed time: 02h 13m 21s\n",
      "INFO:tensorflow:Oracle triggered exit\n"
     ]
    }
   ],
   "source": [
    "conv_tuner_hypband.search(train_garg_square, train_garg_labels, \n",
    "                          validation_data=(test_garg_square, test_garg_labels), \n",
    "                          callbacks=callbacks)"
   ]
  },
  {
   "cell_type": "markdown",
   "id": "0395ab22",
   "metadata": {},
   "source": [
    "Here are some results from an earlier iteration of this code which had better luck (and <i>max_layers</i> set to 3). The results were mixed, but they did agree on one thing: the learning rate they used was the least one of the options. So, in later experiments I let it go a bit lower. Needless to add, whatever conclusions I draw will be applicable at most to the current context: these models, this dataset."
   ]
  },
  {
   "cell_type": "code",
   "execution_count": 59,
   "id": "1e4943cb",
   "metadata": {},
   "outputs": [
    {
     "name": "stdout",
     "output_type": "stream",
     "text": [
      "Results summary\n",
      "Results in my_dir\\intro_to_kt\n",
      "Showing 10 best trials\n",
      "<keras_tuner.engine.objective.Objective object at 0x000001FB87C4EA30>\n",
      "Trial summary\n",
      "Hyperparameters:\n",
      "conv_filters_0: 48\n",
      "recField_0: 5\n",
      "padding_0: valid\n",
      "useBias_0: True\n",
      "conv_layers: 3\n",
      "units: 192\n",
      "learning_rate: 0.0001\n",
      "conv_filters_1: 120\n",
      "recField_1: 3\n",
      "padding_1: valid\n",
      "useBias_1: True\n",
      "tuner/epochs: 10\n",
      "tuner/initial_epoch: 4\n",
      "tuner/bracket: 2\n",
      "tuner/round: 2\n",
      "conv_filters_2: 8\n",
      "recField_2: 3\n",
      "padding_2: same\n",
      "useBias_2: False\n",
      "tuner/trial_id: 0012\n",
      "Score: 0.745398759841919\n",
      "Trial summary\n",
      "Hyperparameters:\n",
      "conv_filters_0: 48\n",
      "recField_0: 5\n",
      "padding_0: valid\n",
      "useBias_0: True\n",
      "conv_layers: 3\n",
      "units: 192\n",
      "learning_rate: 0.0001\n",
      "conv_filters_1: 120\n",
      "recField_1: 3\n",
      "padding_1: valid\n",
      "useBias_1: True\n",
      "tuner/epochs: 4\n",
      "tuner/initial_epoch: 2\n",
      "tuner/bracket: 2\n",
      "tuner/round: 1\n",
      "conv_filters_2: 8\n",
      "recField_2: 3\n",
      "padding_2: same\n",
      "useBias_2: False\n",
      "tuner/trial_id: 0003\n",
      "Score: 0.7380089163780212\n",
      "Trial summary\n",
      "Hyperparameters:\n",
      "conv_filters_0: 48\n",
      "recField_0: 5\n",
      "padding_0: valid\n",
      "useBias_0: True\n",
      "conv_layers: 3\n",
      "units: 192\n",
      "learning_rate: 0.0001\n",
      "conv_filters_1: 120\n",
      "recField_1: 3\n",
      "padding_1: valid\n",
      "useBias_1: True\n",
      "tuner/epochs: 2\n",
      "tuner/initial_epoch: 0\n",
      "tuner/bracket: 2\n",
      "tuner/round: 0\n",
      "conv_filters_2: 8\n",
      "recField_2: 3\n",
      "padding_2: same\n",
      "useBias_2: False\n",
      "Score: 0.7179308533668518\n",
      "Trial summary\n",
      "Hyperparameters:\n",
      "conv_filters_0: 120\n",
      "recField_0: 5\n",
      "padding_0: valid\n",
      "useBias_0: True\n",
      "conv_layers: 1\n",
      "units: 64\n",
      "learning_rate: 0.0001\n",
      "conv_filters_1: 80\n",
      "recField_1: 3\n",
      "padding_1: valid\n",
      "useBias_1: False\n",
      "conv_filters_2: 72\n",
      "recField_2: 3\n",
      "padding_2: same\n",
      "useBias_2: True\n",
      "tuner/epochs: 2\n",
      "tuner/initial_epoch: 0\n",
      "tuner/bracket: 2\n",
      "tuner/round: 0\n",
      "Score: 0.6954824328422546\n",
      "Trial summary\n",
      "Hyperparameters:\n",
      "conv_filters_0: 24\n",
      "recField_0: 3\n",
      "padding_0: same\n",
      "useBias_0: True\n",
      "conv_layers: 1\n",
      "units: 384\n",
      "learning_rate: 0.0001\n",
      "conv_filters_1: 48\n",
      "recField_1: 3\n",
      "padding_1: same\n",
      "useBias_1: True\n",
      "conv_filters_2: 88\n",
      "recField_2: 3\n",
      "padding_2: same\n",
      "useBias_2: True\n",
      "tuner/epochs: 4\n",
      "tuner/initial_epoch: 2\n",
      "tuner/bracket: 2\n",
      "tuner/round: 1\n",
      "tuner/trial_id: 0008\n",
      "Score: 0.6886503100395203\n",
      "Trial summary\n",
      "Hyperparameters:\n",
      "conv_filters_0: 88\n",
      "recField_0: 5\n",
      "padding_0: same\n",
      "useBias_0: False\n",
      "conv_layers: 2\n",
      "units: 384\n",
      "learning_rate: 0.0001\n",
      "conv_filters_1: 80\n",
      "recField_1: 5\n",
      "padding_1: valid\n",
      "useBias_1: False\n",
      "tuner/epochs: 2\n",
      "tuner/initial_epoch: 0\n",
      "tuner/bracket: 2\n",
      "tuner/round: 0\n",
      "Score: 0.6860011219978333\n",
      "Trial summary\n",
      "Hyperparameters:\n",
      "conv_filters_0: 88\n",
      "recField_0: 3\n",
      "padding_0: valid\n",
      "useBias_0: True\n",
      "conv_layers: 2\n",
      "units: 64\n",
      "learning_rate: 0.0001\n",
      "conv_filters_1: 48\n",
      "recField_1: 5\n",
      "padding_1: valid\n",
      "useBias_1: False\n",
      "conv_filters_2: 72\n",
      "recField_2: 5\n",
      "padding_2: valid\n",
      "useBias_2: True\n",
      "tuner/epochs: 10\n",
      "tuner/initial_epoch: 0\n",
      "tuner/bracket: 0\n",
      "tuner/round: 0\n",
      "Score: 0.6850250959396362\n",
      "Trial summary\n",
      "Hyperparameters:\n",
      "conv_filters_0: 72\n",
      "recField_0: 5\n",
      "padding_0: same\n",
      "useBias_0: False\n",
      "conv_layers: 1\n",
      "units: 480\n",
      "learning_rate: 0.0001\n",
      "conv_filters_1: 24\n",
      "recField_1: 3\n",
      "padding_1: same\n",
      "useBias_1: True\n",
      "conv_filters_2: 120\n",
      "recField_2: 3\n",
      "padding_2: valid\n",
      "useBias_2: True\n",
      "tuner/epochs: 4\n",
      "tuner/initial_epoch: 0\n",
      "tuner/bracket: 1\n",
      "tuner/round: 0\n",
      "Score: 0.6823759078979492\n",
      "Trial summary\n",
      "Hyperparameters:\n",
      "conv_filters_0: 40\n",
      "recField_0: 5\n",
      "padding_0: same\n",
      "useBias_0: True\n",
      "conv_layers: 1\n",
      "units: 64\n",
      "learning_rate: 0.001\n",
      "conv_filters_1: 80\n",
      "recField_1: 5\n",
      "padding_1: valid\n",
      "useBias_1: False\n",
      "conv_filters_2: 16\n",
      "recField_2: 3\n",
      "padding_2: same\n",
      "useBias_2: True\n",
      "tuner/epochs: 4\n",
      "tuner/initial_epoch: 0\n",
      "tuner/bracket: 1\n",
      "tuner/round: 0\n",
      "Score: 0.6797267198562622\n",
      "Trial summary\n",
      "Hyperparameters:\n",
      "conv_filters_0: 120\n",
      "recField_0: 5\n",
      "padding_0: valid\n",
      "useBias_0: True\n",
      "conv_layers: 1\n",
      "units: 64\n",
      "learning_rate: 0.0001\n",
      "conv_filters_1: 80\n",
      "recField_1: 3\n",
      "padding_1: valid\n",
      "useBias_1: False\n",
      "conv_filters_2: 72\n",
      "recField_2: 3\n",
      "padding_2: same\n",
      "useBias_2: True\n",
      "tuner/epochs: 4\n",
      "tuner/initial_epoch: 2\n",
      "tuner/bracket: 2\n",
      "tuner/round: 1\n",
      "tuner/trial_id: 0006\n",
      "Score: 0.6786112785339355\n"
     ]
    }
   ],
   "source": [
    "conv_tuner_hypband.results_summary()"
   ]
  },
  {
   "cell_type": "code",
   "execution_count": 68,
   "id": "44120806",
   "metadata": {},
   "outputs": [
    {
     "name": "stdout",
     "output_type": "stream",
     "text": [
      "Results summary\n",
      "Results in my_dir\\intro_to_kt2\n",
      "Showing 10 best trials\n",
      "<keras_tuner.engine.objective.Objective object at 0x000001FB87B5ABB0>\n",
      "Trial summary\n",
      "Hyperparameters:\n",
      "conv_filters_0: 128\n",
      "recField_0: 3\n",
      "padding_0: same\n",
      "useBias_0: False\n",
      "conv_layers: 3\n",
      "units: 224\n",
      "learning_rate: 0.0001\n",
      "conv_filters_1: 128\n",
      "recField_1: 5\n",
      "padding_1: valid\n",
      "useBias_1: True\n",
      "conv_filters_2: 8\n",
      "recField_2: 5\n",
      "padding_2: valid\n",
      "useBias_2: True\n",
      "Score: 0.7691020369529724\n",
      "Trial summary\n",
      "Hyperparameters:\n",
      "conv_filters_0: 128\n",
      "recField_0: 3\n",
      "padding_0: same\n",
      "useBias_0: False\n",
      "conv_layers: 3\n",
      "units: 256\n",
      "learning_rate: 0.0001\n",
      "conv_filters_1: 128\n",
      "recField_1: 5\n",
      "padding_1: valid\n",
      "useBias_1: True\n",
      "conv_filters_2: 8\n",
      "recField_2: 5\n",
      "padding_2: valid\n",
      "useBias_2: True\n",
      "Score: 0.7639431357383728\n",
      "Trial summary\n",
      "Hyperparameters:\n",
      "conv_filters_0: 128\n",
      "recField_0: 3\n",
      "padding_0: same\n",
      "useBias_0: False\n",
      "conv_layers: 3\n",
      "units: 256\n",
      "learning_rate: 0.0001\n",
      "conv_filters_1: 128\n",
      "recField_1: 5\n",
      "padding_1: valid\n",
      "useBias_1: True\n",
      "conv_filters_2: 8\n",
      "recField_2: 5\n",
      "padding_2: valid\n",
      "useBias_2: True\n",
      "Score: 0.7607361674308777\n",
      "Trial summary\n",
      "Hyperparameters:\n",
      "conv_filters_0: 128\n",
      "recField_0: 3\n",
      "padding_0: same\n",
      "useBias_0: False\n",
      "conv_layers: 3\n",
      "units: 224\n",
      "learning_rate: 0.0001\n",
      "conv_filters_1: 128\n",
      "recField_1: 5\n",
      "padding_1: valid\n",
      "useBias_1: True\n",
      "conv_filters_2: 8\n",
      "recField_2: 5\n",
      "padding_2: valid\n",
      "useBias_2: True\n",
      "Score: 0.7520914673805237\n",
      "Trial summary\n",
      "Hyperparameters:\n",
      "conv_filters_0: 128\n",
      "recField_0: 3\n",
      "padding_0: same\n",
      "useBias_0: False\n",
      "conv_layers: 3\n",
      "units: 192\n",
      "learning_rate: 0.0001\n",
      "conv_filters_1: 104\n",
      "recField_1: 5\n",
      "padding_1: valid\n",
      "useBias_1: True\n",
      "conv_filters_2: 8\n",
      "recField_2: 5\n",
      "padding_2: valid\n",
      "useBias_2: True\n",
      "Score: 0.751952052116394\n",
      "Trial summary\n",
      "Hyperparameters:\n",
      "conv_filters_0: 128\n",
      "recField_0: 3\n",
      "padding_0: same\n",
      "useBias_0: False\n",
      "conv_layers: 3\n",
      "units: 256\n",
      "learning_rate: 0.0001\n",
      "conv_filters_1: 128\n",
      "recField_1: 5\n",
      "padding_1: valid\n",
      "useBias_1: True\n",
      "conv_filters_2: 8\n",
      "recField_2: 5\n",
      "padding_2: valid\n",
      "useBias_2: True\n",
      "Score: 0.750976026058197\n",
      "Trial summary\n",
      "Hyperparameters:\n",
      "conv_filters_0: 128\n",
      "recField_0: 3\n",
      "padding_0: same\n",
      "useBias_0: False\n",
      "conv_layers: 3\n",
      "units: 256\n",
      "learning_rate: 0.0001\n",
      "conv_filters_1: 128\n",
      "recField_1: 5\n",
      "padding_1: valid\n",
      "useBias_1: True\n",
      "conv_filters_2: 8\n",
      "recField_2: 5\n",
      "padding_2: valid\n",
      "useBias_2: True\n",
      "Score: 0.7487451434135437\n",
      "Trial summary\n",
      "Hyperparameters:\n",
      "conv_filters_0: 128\n",
      "recField_0: 3\n",
      "padding_0: same\n",
      "useBias_0: False\n",
      "conv_layers: 3\n",
      "units: 256\n",
      "learning_rate: 0.0001\n",
      "conv_filters_1: 128\n",
      "recField_1: 5\n",
      "padding_1: valid\n",
      "useBias_1: True\n",
      "conv_filters_2: 8\n",
      "recField_2: 5\n",
      "padding_2: valid\n",
      "useBias_2: True\n",
      "Score: 0.746374785900116\n",
      "Trial summary\n",
      "Hyperparameters:\n",
      "conv_filters_0: 128\n",
      "recField_0: 3\n",
      "padding_0: same\n",
      "useBias_0: False\n",
      "conv_layers: 3\n",
      "units: 256\n",
      "learning_rate: 0.0001\n",
      "conv_filters_1: 128\n",
      "recField_1: 5\n",
      "padding_1: valid\n",
      "useBias_1: True\n",
      "conv_filters_2: 8\n",
      "recField_2: 5\n",
      "padding_2: valid\n",
      "useBias_2: True\n",
      "Score: 0.7459564805030823\n",
      "Trial summary\n",
      "Hyperparameters:\n",
      "conv_filters_0: 128\n",
      "recField_0: 3\n",
      "padding_0: same\n",
      "useBias_0: False\n",
      "conv_layers: 3\n",
      "units: 256\n",
      "learning_rate: 0.0001\n",
      "conv_filters_1: 128\n",
      "recField_1: 5\n",
      "padding_1: valid\n",
      "useBias_1: True\n",
      "conv_filters_2: 8\n",
      "recField_2: 5\n",
      "padding_2: valid\n",
      "useBias_2: True\n",
      "Score: 0.7459564805030823\n"
     ]
    }
   ],
   "source": [
    "conv_tuner_bayes.results_summary()"
   ]
  },
  {
   "cell_type": "markdown",
   "id": "f440462e",
   "metadata": {},
   "source": [
    "Here's a later experiment looking at the effectiveness of a few regularisation methods, $L^2$ loss penalty and unit dropout. Actually the most significant change from above was the addition of a few pooling layers."
   ]
  },
  {
   "cell_type": "code",
   "execution_count": 170,
   "id": "d9f61cbc",
   "metadata": {},
   "outputs": [],
   "source": [
    "def conv_model_builder_mk6(hp):\n",
    "    f_min, f_max, f_step=16, 256, 16\n",
    "    reg_coef = hp.Float('decay', min_value=0.05, max_value=0.15, step=0.01)\n",
    "    dropout_prob = hp.Float('dropout', min_value = 0.1, max_value = 0.5, step = 0.1)\n",
    "    regulator = tf.keras.regularizers.L2(reg_coef)\n",
    "    hp_filters, hp_rec_fields = [],[]\n",
    "    hp_units = hp.Int('units', min_value=64, max_value = 512, step=32)\n",
    "    for i in range(0,4):\n",
    "        hp_filters.append(hp.Int('conv_filters_' + str(i), min_value = f_min, max_value = f_max, step = f_step))\n",
    "        hp_rec_fields.append(hp.Choice('rec_field_' + str(i), values = [3,5]))\n",
    "    model = tf.keras.Sequential([tf.keras.layers.Convolution2D(hp_filters[0], hp_rec_fields[0], activation='relu', \n",
    "                                                               padding='same', use_bias = True,\n",
    "                                            input_shape = (128,128,3), kernel_regularizer=regulator),\n",
    "                                 tf.keras.layers.Dropout(dropout_prob),\n",
    "                                 tf.keras.layers.Convolution2D(hp_filters[1], hp_rec_fields[1], activation='relu', \n",
    "                                                               padding='same', use_bias = True,\n",
    "                                                              kernel_regularizer=regulator),\n",
    "                                 tf.keras.layers.MaxPool2D(strides=(2,2)), # default pool size (2,2); cuts down to 14x14x120\n",
    "                                 tf.keras.layers.Convolution2D(hp_filters[2], hp_rec_fields[2], activation='relu', \n",
    "                                                               padding='same', use_bias = True,\n",
    "                                                              kernel_regularizer=regulator),\n",
    "                                 tf.keras.layers.Dropout(dropout_prob),\n",
    "                                 tf.keras.layers.Convolution2D(hp_filters[3], hp_rec_fields[3], activation='relu', \n",
    "                                                               padding='same', use_bias = True,\n",
    "                                                              kernel_regularizer=regulator),\n",
    "                                 tf.keras.layers.MaxPool2D(strides=(2,2)), # cuts down to 7x7x96\n",
    "                                 tf.keras.layers.Flatten(),\n",
    "                                 tf.keras.layers.Dense(hp_units, activation='relu'),\n",
    "                                 tf.keras.layers.Dropout(dropout_prob),\n",
    "                                 tf.keras.layers.Dense(76, activation='softmax', kernel_regularizer=regulator)])\n",
    "                                 \n",
    "    model.compile(optimizer=tf.keras.optimizers.Adam(learning_rate=0.0001),\n",
    "                loss=tf.keras.losses.SparseCategoricalCrossentropy(),\n",
    "                metrics=['accuracy'])\n",
    "    return model"
   ]
  },
  {
   "cell_type": "code",
   "execution_count": 161,
   "id": "8241d856",
   "metadata": {},
   "outputs": [],
   "source": [
    "conv_tuner_hypband_6 = kt.Hyperband( conv_model_builder_mk6,\n",
    "                                     objective='val_accuracy',\n",
    "                                     max_epochs=20,\n",
    "                                     factor=3,\n",
    "                                     overwrite=True)"
   ]
  },
  {
   "cell_type": "code",
   "execution_count": 162,
   "id": "4a692a0b",
   "metadata": {},
   "outputs": [
    {
     "name": "stdout",
     "output_type": "stream",
     "text": [
      "Trial 27 Complete [00h 37m 02s]\n",
      "val_accuracy: 0.5737590789794922\n",
      "\n",
      "Best val_accuracy So Far: 0.8753485679626465\n",
      "Total elapsed time: 11h 42m 52s\n",
      "\n",
      "Search: Running Trial #28\n",
      "\n",
      "Value             |Best Value So Far |Hyperparameter\n",
      "0.14              |0.06              |decay\n",
      "0.4               |0.2               |dropout\n",
      "320               |224               |units\n",
      "80                |64                |conv_filters_0\n",
      "3                 |5                 |rec_field_0\n",
      "80                |240               |conv_filters_1\n",
      "3                 |5                 |rec_field_1\n",
      "192               |48                |conv_filters_2\n",
      "5                 |3                 |rec_field_2\n",
      "144               |96                |conv_filters_3\n",
      "5                 |5                 |rec_field_3\n",
      "20                |20                |tuner/epochs\n",
      "0                 |7                 |tuner/initial_epoch\n",
      "0                 |2                 |tuner/bracket\n",
      "0                 |2                 |tuner/round\n",
      "\n",
      "Epoch 1/20\n",
      "531/858 [=================>............] - ETA: 1:45 - loss: 17.2451 - accuracy: 0.0459"
     ]
    },
    {
     "ename": "KeyboardInterrupt",
     "evalue": "",
     "output_type": "error",
     "traceback": [
      "\u001b[1;31m---------------------------------------------------------------------------\u001b[0m",
      "\u001b[1;31mKeyboardInterrupt\u001b[0m                         Traceback (most recent call last)",
      "Input \u001b[1;32mIn [162]\u001b[0m, in \u001b[0;36m<cell line: 1>\u001b[1;34m()\u001b[0m\n\u001b[1;32m----> 1\u001b[0m \u001b[43mconv_tuner_hypband_6\u001b[49m\u001b[38;5;241;43m.\u001b[39;49m\u001b[43msearch\u001b[49m\u001b[43m(\u001b[49m\u001b[43mtrain_garg_square\u001b[49m\u001b[43m,\u001b[49m\u001b[43m \u001b[49m\u001b[43mtrain_garg_labels\u001b[49m\u001b[43m,\u001b[49m\u001b[43m \u001b[49m\u001b[43mvalidation_data\u001b[49m\u001b[38;5;241;43m=\u001b[39;49m\u001b[43m(\u001b[49m\u001b[43mtest_garg_square\u001b[49m\u001b[43m,\u001b[49m\u001b[43m \u001b[49m\u001b[43mtest_garg_labels\u001b[49m\u001b[43m)\u001b[49m\u001b[43m,\u001b[49m\u001b[43m \u001b[49m\u001b[43mcallbacks\u001b[49m\u001b[38;5;241;43m=\u001b[39;49m\u001b[43m[\u001b[49m\u001b[43mstop_early\u001b[49m\u001b[43m,\u001b[49m\u001b[43m \u001b[49m\u001b[43mstop_failed\u001b[49m\u001b[43m]\u001b[49m\u001b[43m)\u001b[49m\n",
      "File \u001b[1;32m~\\anaconda3\\lib\\site-packages\\keras_tuner\\engine\\base_tuner.py:183\u001b[0m, in \u001b[0;36mBaseTuner.search\u001b[1;34m(self, *fit_args, **fit_kwargs)\u001b[0m\n\u001b[0;32m    180\u001b[0m     \u001b[38;5;28;01mcontinue\u001b[39;00m\n\u001b[0;32m    182\u001b[0m \u001b[38;5;28mself\u001b[39m\u001b[38;5;241m.\u001b[39mon_trial_begin(trial)\n\u001b[1;32m--> 183\u001b[0m results \u001b[38;5;241m=\u001b[39m \u001b[38;5;28mself\u001b[39m\u001b[38;5;241m.\u001b[39mrun_trial(trial, \u001b[38;5;241m*\u001b[39mfit_args, \u001b[38;5;241m*\u001b[39m\u001b[38;5;241m*\u001b[39mfit_kwargs)\n\u001b[0;32m    184\u001b[0m \u001b[38;5;66;03m# `results` is None indicates user updated oracle in `run_trial()`.\u001b[39;00m\n\u001b[0;32m    185\u001b[0m \u001b[38;5;28;01mif\u001b[39;00m results \u001b[38;5;129;01mis\u001b[39;00m \u001b[38;5;28;01mNone\u001b[39;00m:\n",
      "File \u001b[1;32m~\\anaconda3\\lib\\site-packages\\keras_tuner\\tuners\\hyperband.py:384\u001b[0m, in \u001b[0;36mHyperband.run_trial\u001b[1;34m(self, trial, *fit_args, **fit_kwargs)\u001b[0m\n\u001b[0;32m    382\u001b[0m     fit_kwargs[\u001b[38;5;124m\"\u001b[39m\u001b[38;5;124mepochs\u001b[39m\u001b[38;5;124m\"\u001b[39m] \u001b[38;5;241m=\u001b[39m hp\u001b[38;5;241m.\u001b[39mvalues[\u001b[38;5;124m\"\u001b[39m\u001b[38;5;124mtuner/epochs\u001b[39m\u001b[38;5;124m\"\u001b[39m]\n\u001b[0;32m    383\u001b[0m     fit_kwargs[\u001b[38;5;124m\"\u001b[39m\u001b[38;5;124minitial_epoch\u001b[39m\u001b[38;5;124m\"\u001b[39m] \u001b[38;5;241m=\u001b[39m hp\u001b[38;5;241m.\u001b[39mvalues[\u001b[38;5;124m\"\u001b[39m\u001b[38;5;124mtuner/initial_epoch\u001b[39m\u001b[38;5;124m\"\u001b[39m]\n\u001b[1;32m--> 384\u001b[0m \u001b[38;5;28;01mreturn\u001b[39;00m \u001b[38;5;28msuper\u001b[39m(Hyperband, \u001b[38;5;28mself\u001b[39m)\u001b[38;5;241m.\u001b[39mrun_trial(trial, \u001b[38;5;241m*\u001b[39mfit_args, \u001b[38;5;241m*\u001b[39m\u001b[38;5;241m*\u001b[39mfit_kwargs)\n",
      "File \u001b[1;32m~\\anaconda3\\lib\\site-packages\\keras_tuner\\engine\\tuner.py:295\u001b[0m, in \u001b[0;36mTuner.run_trial\u001b[1;34m(self, trial, *args, **kwargs)\u001b[0m\n\u001b[0;32m    293\u001b[0m     callbacks\u001b[38;5;241m.\u001b[39mappend(model_checkpoint)\n\u001b[0;32m    294\u001b[0m     copied_kwargs[\u001b[38;5;124m\"\u001b[39m\u001b[38;5;124mcallbacks\u001b[39m\u001b[38;5;124m\"\u001b[39m] \u001b[38;5;241m=\u001b[39m callbacks\n\u001b[1;32m--> 295\u001b[0m     obj_value \u001b[38;5;241m=\u001b[39m \u001b[38;5;28mself\u001b[39m\u001b[38;5;241m.\u001b[39m_build_and_fit_model(trial, \u001b[38;5;241m*\u001b[39margs, \u001b[38;5;241m*\u001b[39m\u001b[38;5;241m*\u001b[39mcopied_kwargs)\n\u001b[0;32m    297\u001b[0m     histories\u001b[38;5;241m.\u001b[39mappend(obj_value)\n\u001b[0;32m    298\u001b[0m \u001b[38;5;28;01mreturn\u001b[39;00m histories\n",
      "File \u001b[1;32m~\\anaconda3\\lib\\site-packages\\keras_tuner\\engine\\tuner.py:222\u001b[0m, in \u001b[0;36mTuner._build_and_fit_model\u001b[1;34m(self, trial, *args, **kwargs)\u001b[0m\n\u001b[0;32m    220\u001b[0m hp \u001b[38;5;241m=\u001b[39m trial\u001b[38;5;241m.\u001b[39mhyperparameters\n\u001b[0;32m    221\u001b[0m model \u001b[38;5;241m=\u001b[39m \u001b[38;5;28mself\u001b[39m\u001b[38;5;241m.\u001b[39m_try_build(hp)\n\u001b[1;32m--> 222\u001b[0m results \u001b[38;5;241m=\u001b[39m \u001b[38;5;28mself\u001b[39m\u001b[38;5;241m.\u001b[39mhypermodel\u001b[38;5;241m.\u001b[39mfit(hp, model, \u001b[38;5;241m*\u001b[39margs, \u001b[38;5;241m*\u001b[39m\u001b[38;5;241m*\u001b[39mkwargs)\n\u001b[0;32m    223\u001b[0m tuner_utils\u001b[38;5;241m.\u001b[39mvalidate_trial_results(\n\u001b[0;32m    224\u001b[0m     results, \u001b[38;5;28mself\u001b[39m\u001b[38;5;241m.\u001b[39moracle\u001b[38;5;241m.\u001b[39mobjective, \u001b[38;5;124m\"\u001b[39m\u001b[38;5;124mHyperModel.fit()\u001b[39m\u001b[38;5;124m\"\u001b[39m\n\u001b[0;32m    225\u001b[0m )\n\u001b[0;32m    226\u001b[0m \u001b[38;5;28;01mreturn\u001b[39;00m results\n",
      "File \u001b[1;32m~\\anaconda3\\lib\\site-packages\\keras_tuner\\engine\\hypermodel.py:140\u001b[0m, in \u001b[0;36mHyperModel.fit\u001b[1;34m(self, hp, model, *args, **kwargs)\u001b[0m\n\u001b[0;32m    116\u001b[0m \u001b[38;5;28;01mdef\u001b[39;00m \u001b[38;5;21mfit\u001b[39m(\u001b[38;5;28mself\u001b[39m, hp, model, \u001b[38;5;241m*\u001b[39margs, \u001b[38;5;241m*\u001b[39m\u001b[38;5;241m*\u001b[39mkwargs):\n\u001b[0;32m    117\u001b[0m     \u001b[38;5;124;03m\"\"\"Train the model.\u001b[39;00m\n\u001b[0;32m    118\u001b[0m \n\u001b[0;32m    119\u001b[0m \u001b[38;5;124;03m    Args:\u001b[39;00m\n\u001b[1;32m   (...)\u001b[0m\n\u001b[0;32m    138\u001b[0m \u001b[38;5;124;03m        If return a float, it should be the `objective` value.\u001b[39;00m\n\u001b[0;32m    139\u001b[0m \u001b[38;5;124;03m    \"\"\"\u001b[39;00m\n\u001b[1;32m--> 140\u001b[0m     \u001b[38;5;28;01mreturn\u001b[39;00m model\u001b[38;5;241m.\u001b[39mfit(\u001b[38;5;241m*\u001b[39margs, \u001b[38;5;241m*\u001b[39m\u001b[38;5;241m*\u001b[39mkwargs)\n",
      "File \u001b[1;32m~\\anaconda3\\lib\\site-packages\\keras\\utils\\traceback_utils.py:65\u001b[0m, in \u001b[0;36mfilter_traceback.<locals>.error_handler\u001b[1;34m(*args, **kwargs)\u001b[0m\n\u001b[0;32m     63\u001b[0m filtered_tb \u001b[38;5;241m=\u001b[39m \u001b[38;5;28;01mNone\u001b[39;00m\n\u001b[0;32m     64\u001b[0m \u001b[38;5;28;01mtry\u001b[39;00m:\n\u001b[1;32m---> 65\u001b[0m     \u001b[38;5;28;01mreturn\u001b[39;00m fn(\u001b[38;5;241m*\u001b[39margs, \u001b[38;5;241m*\u001b[39m\u001b[38;5;241m*\u001b[39mkwargs)\n\u001b[0;32m     66\u001b[0m \u001b[38;5;28;01mexcept\u001b[39;00m \u001b[38;5;167;01mException\u001b[39;00m \u001b[38;5;28;01mas\u001b[39;00m e:\n\u001b[0;32m     67\u001b[0m     filtered_tb \u001b[38;5;241m=\u001b[39m _process_traceback_frames(e\u001b[38;5;241m.\u001b[39m__traceback__)\n",
      "File \u001b[1;32m~\\anaconda3\\lib\\site-packages\\keras\\engine\\training.py:1564\u001b[0m, in \u001b[0;36mModel.fit\u001b[1;34m(self, x, y, batch_size, epochs, verbose, callbacks, validation_split, validation_data, shuffle, class_weight, sample_weight, initial_epoch, steps_per_epoch, validation_steps, validation_batch_size, validation_freq, max_queue_size, workers, use_multiprocessing)\u001b[0m\n\u001b[0;32m   1556\u001b[0m \u001b[38;5;28;01mwith\u001b[39;00m tf\u001b[38;5;241m.\u001b[39mprofiler\u001b[38;5;241m.\u001b[39mexperimental\u001b[38;5;241m.\u001b[39mTrace(\n\u001b[0;32m   1557\u001b[0m     \u001b[38;5;124m\"\u001b[39m\u001b[38;5;124mtrain\u001b[39m\u001b[38;5;124m\"\u001b[39m,\n\u001b[0;32m   1558\u001b[0m     epoch_num\u001b[38;5;241m=\u001b[39mepoch,\n\u001b[1;32m   (...)\u001b[0m\n\u001b[0;32m   1561\u001b[0m     _r\u001b[38;5;241m=\u001b[39m\u001b[38;5;241m1\u001b[39m,\n\u001b[0;32m   1562\u001b[0m ):\n\u001b[0;32m   1563\u001b[0m     callbacks\u001b[38;5;241m.\u001b[39mon_train_batch_begin(step)\n\u001b[1;32m-> 1564\u001b[0m     tmp_logs \u001b[38;5;241m=\u001b[39m \u001b[38;5;28;43mself\u001b[39;49m\u001b[38;5;241;43m.\u001b[39;49m\u001b[43mtrain_function\u001b[49m\u001b[43m(\u001b[49m\u001b[43miterator\u001b[49m\u001b[43m)\u001b[49m\n\u001b[0;32m   1565\u001b[0m     \u001b[38;5;28;01mif\u001b[39;00m data_handler\u001b[38;5;241m.\u001b[39mshould_sync:\n\u001b[0;32m   1566\u001b[0m         context\u001b[38;5;241m.\u001b[39masync_wait()\n",
      "File \u001b[1;32m~\\anaconda3\\lib\\site-packages\\tensorflow\\python\\util\\traceback_utils.py:150\u001b[0m, in \u001b[0;36mfilter_traceback.<locals>.error_handler\u001b[1;34m(*args, **kwargs)\u001b[0m\n\u001b[0;32m    148\u001b[0m filtered_tb \u001b[38;5;241m=\u001b[39m \u001b[38;5;28;01mNone\u001b[39;00m\n\u001b[0;32m    149\u001b[0m \u001b[38;5;28;01mtry\u001b[39;00m:\n\u001b[1;32m--> 150\u001b[0m   \u001b[38;5;28;01mreturn\u001b[39;00m fn(\u001b[38;5;241m*\u001b[39margs, \u001b[38;5;241m*\u001b[39m\u001b[38;5;241m*\u001b[39mkwargs)\n\u001b[0;32m    151\u001b[0m \u001b[38;5;28;01mexcept\u001b[39;00m \u001b[38;5;167;01mException\u001b[39;00m \u001b[38;5;28;01mas\u001b[39;00m e:\n\u001b[0;32m    152\u001b[0m   filtered_tb \u001b[38;5;241m=\u001b[39m _process_traceback_frames(e\u001b[38;5;241m.\u001b[39m__traceback__)\n",
      "File \u001b[1;32m~\\anaconda3\\lib\\site-packages\\tensorflow\\python\\eager\\def_function.py:915\u001b[0m, in \u001b[0;36mFunction.__call__\u001b[1;34m(self, *args, **kwds)\u001b[0m\n\u001b[0;32m    912\u001b[0m compiler \u001b[38;5;241m=\u001b[39m \u001b[38;5;124m\"\u001b[39m\u001b[38;5;124mxla\u001b[39m\u001b[38;5;124m\"\u001b[39m \u001b[38;5;28;01mif\u001b[39;00m \u001b[38;5;28mself\u001b[39m\u001b[38;5;241m.\u001b[39m_jit_compile \u001b[38;5;28;01melse\u001b[39;00m \u001b[38;5;124m\"\u001b[39m\u001b[38;5;124mnonXla\u001b[39m\u001b[38;5;124m\"\u001b[39m\n\u001b[0;32m    914\u001b[0m \u001b[38;5;28;01mwith\u001b[39;00m OptionalXlaContext(\u001b[38;5;28mself\u001b[39m\u001b[38;5;241m.\u001b[39m_jit_compile):\n\u001b[1;32m--> 915\u001b[0m   result \u001b[38;5;241m=\u001b[39m \u001b[38;5;28mself\u001b[39m\u001b[38;5;241m.\u001b[39m_call(\u001b[38;5;241m*\u001b[39margs, \u001b[38;5;241m*\u001b[39m\u001b[38;5;241m*\u001b[39mkwds)\n\u001b[0;32m    917\u001b[0m new_tracing_count \u001b[38;5;241m=\u001b[39m \u001b[38;5;28mself\u001b[39m\u001b[38;5;241m.\u001b[39mexperimental_get_tracing_count()\n\u001b[0;32m    918\u001b[0m without_tracing \u001b[38;5;241m=\u001b[39m (tracing_count \u001b[38;5;241m==\u001b[39m new_tracing_count)\n",
      "File \u001b[1;32m~\\anaconda3\\lib\\site-packages\\tensorflow\\python\\eager\\def_function.py:947\u001b[0m, in \u001b[0;36mFunction._call\u001b[1;34m(self, *args, **kwds)\u001b[0m\n\u001b[0;32m    944\u001b[0m   \u001b[38;5;28mself\u001b[39m\u001b[38;5;241m.\u001b[39m_lock\u001b[38;5;241m.\u001b[39mrelease()\n\u001b[0;32m    945\u001b[0m   \u001b[38;5;66;03m# In this case we have created variables on the first call, so we run the\u001b[39;00m\n\u001b[0;32m    946\u001b[0m   \u001b[38;5;66;03m# defunned version which is guaranteed to never create variables.\u001b[39;00m\n\u001b[1;32m--> 947\u001b[0m   \u001b[38;5;28;01mreturn\u001b[39;00m \u001b[38;5;28mself\u001b[39m\u001b[38;5;241m.\u001b[39m_stateless_fn(\u001b[38;5;241m*\u001b[39margs, \u001b[38;5;241m*\u001b[39m\u001b[38;5;241m*\u001b[39mkwds)  \u001b[38;5;66;03m# pylint: disable=not-callable\u001b[39;00m\n\u001b[0;32m    948\u001b[0m \u001b[38;5;28;01melif\u001b[39;00m \u001b[38;5;28mself\u001b[39m\u001b[38;5;241m.\u001b[39m_stateful_fn \u001b[38;5;129;01mis\u001b[39;00m \u001b[38;5;129;01mnot\u001b[39;00m \u001b[38;5;28;01mNone\u001b[39;00m:\n\u001b[0;32m    949\u001b[0m   \u001b[38;5;66;03m# Release the lock early so that multiple threads can perform the call\u001b[39;00m\n\u001b[0;32m    950\u001b[0m   \u001b[38;5;66;03m# in parallel.\u001b[39;00m\n\u001b[0;32m    951\u001b[0m   \u001b[38;5;28mself\u001b[39m\u001b[38;5;241m.\u001b[39m_lock\u001b[38;5;241m.\u001b[39mrelease()\n",
      "File \u001b[1;32m~\\anaconda3\\lib\\site-packages\\tensorflow\\python\\eager\\function.py:2496\u001b[0m, in \u001b[0;36mFunction.__call__\u001b[1;34m(self, *args, **kwargs)\u001b[0m\n\u001b[0;32m   2493\u001b[0m \u001b[38;5;28;01mwith\u001b[39;00m \u001b[38;5;28mself\u001b[39m\u001b[38;5;241m.\u001b[39m_lock:\n\u001b[0;32m   2494\u001b[0m   (graph_function,\n\u001b[0;32m   2495\u001b[0m    filtered_flat_args) \u001b[38;5;241m=\u001b[39m \u001b[38;5;28mself\u001b[39m\u001b[38;5;241m.\u001b[39m_maybe_define_function(args, kwargs)\n\u001b[1;32m-> 2496\u001b[0m \u001b[38;5;28;01mreturn\u001b[39;00m \u001b[43mgraph_function\u001b[49m\u001b[38;5;241;43m.\u001b[39;49m\u001b[43m_call_flat\u001b[49m\u001b[43m(\u001b[49m\n\u001b[0;32m   2497\u001b[0m \u001b[43m    \u001b[49m\u001b[43mfiltered_flat_args\u001b[49m\u001b[43m,\u001b[49m\u001b[43m \u001b[49m\u001b[43mcaptured_inputs\u001b[49m\u001b[38;5;241;43m=\u001b[39;49m\u001b[43mgraph_function\u001b[49m\u001b[38;5;241;43m.\u001b[39;49m\u001b[43mcaptured_inputs\u001b[49m\u001b[43m)\u001b[49m\n",
      "File \u001b[1;32m~\\anaconda3\\lib\\site-packages\\tensorflow\\python\\eager\\function.py:1862\u001b[0m, in \u001b[0;36mConcreteFunction._call_flat\u001b[1;34m(self, args, captured_inputs, cancellation_manager)\u001b[0m\n\u001b[0;32m   1858\u001b[0m possible_gradient_type \u001b[38;5;241m=\u001b[39m gradients_util\u001b[38;5;241m.\u001b[39mPossibleTapeGradientTypes(args)\n\u001b[0;32m   1859\u001b[0m \u001b[38;5;28;01mif\u001b[39;00m (possible_gradient_type \u001b[38;5;241m==\u001b[39m gradients_util\u001b[38;5;241m.\u001b[39mPOSSIBLE_GRADIENT_TYPES_NONE\n\u001b[0;32m   1860\u001b[0m     \u001b[38;5;129;01mand\u001b[39;00m executing_eagerly):\n\u001b[0;32m   1861\u001b[0m   \u001b[38;5;66;03m# No tape is watching; skip to running the function.\u001b[39;00m\n\u001b[1;32m-> 1862\u001b[0m   \u001b[38;5;28;01mreturn\u001b[39;00m \u001b[38;5;28mself\u001b[39m\u001b[38;5;241m.\u001b[39m_build_call_outputs(\u001b[38;5;28;43mself\u001b[39;49m\u001b[38;5;241;43m.\u001b[39;49m\u001b[43m_inference_function\u001b[49m\u001b[38;5;241;43m.\u001b[39;49m\u001b[43mcall\u001b[49m\u001b[43m(\u001b[49m\n\u001b[0;32m   1863\u001b[0m \u001b[43m      \u001b[49m\u001b[43mctx\u001b[49m\u001b[43m,\u001b[49m\u001b[43m \u001b[49m\u001b[43margs\u001b[49m\u001b[43m,\u001b[49m\u001b[43m \u001b[49m\u001b[43mcancellation_manager\u001b[49m\u001b[38;5;241;43m=\u001b[39;49m\u001b[43mcancellation_manager\u001b[49m\u001b[43m)\u001b[49m)\n\u001b[0;32m   1864\u001b[0m forward_backward \u001b[38;5;241m=\u001b[39m \u001b[38;5;28mself\u001b[39m\u001b[38;5;241m.\u001b[39m_select_forward_and_backward_functions(\n\u001b[0;32m   1865\u001b[0m     args,\n\u001b[0;32m   1866\u001b[0m     possible_gradient_type,\n\u001b[0;32m   1867\u001b[0m     executing_eagerly)\n\u001b[0;32m   1868\u001b[0m forward_function, args_with_tangents \u001b[38;5;241m=\u001b[39m forward_backward\u001b[38;5;241m.\u001b[39mforward()\n",
      "File \u001b[1;32m~\\anaconda3\\lib\\site-packages\\tensorflow\\python\\eager\\function.py:499\u001b[0m, in \u001b[0;36m_EagerDefinedFunction.call\u001b[1;34m(self, ctx, args, cancellation_manager)\u001b[0m\n\u001b[0;32m    497\u001b[0m \u001b[38;5;28;01mwith\u001b[39;00m _InterpolateFunctionError(\u001b[38;5;28mself\u001b[39m):\n\u001b[0;32m    498\u001b[0m   \u001b[38;5;28;01mif\u001b[39;00m cancellation_manager \u001b[38;5;129;01mis\u001b[39;00m \u001b[38;5;28;01mNone\u001b[39;00m:\n\u001b[1;32m--> 499\u001b[0m     outputs \u001b[38;5;241m=\u001b[39m \u001b[43mexecute\u001b[49m\u001b[38;5;241;43m.\u001b[39;49m\u001b[43mexecute\u001b[49m\u001b[43m(\u001b[49m\n\u001b[0;32m    500\u001b[0m \u001b[43m        \u001b[49m\u001b[38;5;28;43mstr\u001b[39;49m\u001b[43m(\u001b[49m\u001b[38;5;28;43mself\u001b[39;49m\u001b[38;5;241;43m.\u001b[39;49m\u001b[43msignature\u001b[49m\u001b[38;5;241;43m.\u001b[39;49m\u001b[43mname\u001b[49m\u001b[43m)\u001b[49m\u001b[43m,\u001b[49m\n\u001b[0;32m    501\u001b[0m \u001b[43m        \u001b[49m\u001b[43mnum_outputs\u001b[49m\u001b[38;5;241;43m=\u001b[39;49m\u001b[38;5;28;43mself\u001b[39;49m\u001b[38;5;241;43m.\u001b[39;49m\u001b[43m_num_outputs\u001b[49m\u001b[43m,\u001b[49m\n\u001b[0;32m    502\u001b[0m \u001b[43m        \u001b[49m\u001b[43minputs\u001b[49m\u001b[38;5;241;43m=\u001b[39;49m\u001b[43margs\u001b[49m\u001b[43m,\u001b[49m\n\u001b[0;32m    503\u001b[0m \u001b[43m        \u001b[49m\u001b[43mattrs\u001b[49m\u001b[38;5;241;43m=\u001b[39;49m\u001b[43mattrs\u001b[49m\u001b[43m,\u001b[49m\n\u001b[0;32m    504\u001b[0m \u001b[43m        \u001b[49m\u001b[43mctx\u001b[49m\u001b[38;5;241;43m=\u001b[39;49m\u001b[43mctx\u001b[49m\u001b[43m)\u001b[49m\n\u001b[0;32m    505\u001b[0m   \u001b[38;5;28;01melse\u001b[39;00m:\n\u001b[0;32m    506\u001b[0m     outputs \u001b[38;5;241m=\u001b[39m execute\u001b[38;5;241m.\u001b[39mexecute_with_cancellation(\n\u001b[0;32m    507\u001b[0m         \u001b[38;5;28mstr\u001b[39m(\u001b[38;5;28mself\u001b[39m\u001b[38;5;241m.\u001b[39msignature\u001b[38;5;241m.\u001b[39mname),\n\u001b[0;32m    508\u001b[0m         num_outputs\u001b[38;5;241m=\u001b[39m\u001b[38;5;28mself\u001b[39m\u001b[38;5;241m.\u001b[39m_num_outputs,\n\u001b[1;32m   (...)\u001b[0m\n\u001b[0;32m    511\u001b[0m         ctx\u001b[38;5;241m=\u001b[39mctx,\n\u001b[0;32m    512\u001b[0m         cancellation_manager\u001b[38;5;241m=\u001b[39mcancellation_manager)\n",
      "File \u001b[1;32m~\\anaconda3\\lib\\site-packages\\tensorflow\\python\\eager\\execute.py:54\u001b[0m, in \u001b[0;36mquick_execute\u001b[1;34m(op_name, num_outputs, inputs, attrs, ctx, name)\u001b[0m\n\u001b[0;32m     52\u001b[0m \u001b[38;5;28;01mtry\u001b[39;00m:\n\u001b[0;32m     53\u001b[0m   ctx\u001b[38;5;241m.\u001b[39mensure_initialized()\n\u001b[1;32m---> 54\u001b[0m   tensors \u001b[38;5;241m=\u001b[39m \u001b[43mpywrap_tfe\u001b[49m\u001b[38;5;241;43m.\u001b[39;49m\u001b[43mTFE_Py_Execute\u001b[49m\u001b[43m(\u001b[49m\u001b[43mctx\u001b[49m\u001b[38;5;241;43m.\u001b[39;49m\u001b[43m_handle\u001b[49m\u001b[43m,\u001b[49m\u001b[43m \u001b[49m\u001b[43mdevice_name\u001b[49m\u001b[43m,\u001b[49m\u001b[43m \u001b[49m\u001b[43mop_name\u001b[49m\u001b[43m,\u001b[49m\n\u001b[0;32m     55\u001b[0m \u001b[43m                                      \u001b[49m\u001b[43minputs\u001b[49m\u001b[43m,\u001b[49m\u001b[43m \u001b[49m\u001b[43mattrs\u001b[49m\u001b[43m,\u001b[49m\u001b[43m \u001b[49m\u001b[43mnum_outputs\u001b[49m\u001b[43m)\u001b[49m\n\u001b[0;32m     56\u001b[0m \u001b[38;5;28;01mexcept\u001b[39;00m core\u001b[38;5;241m.\u001b[39m_NotOkStatusException \u001b[38;5;28;01mas\u001b[39;00m e:\n\u001b[0;32m     57\u001b[0m   \u001b[38;5;28;01mif\u001b[39;00m name \u001b[38;5;129;01mis\u001b[39;00m \u001b[38;5;129;01mnot\u001b[39;00m \u001b[38;5;28;01mNone\u001b[39;00m:\n",
      "\u001b[1;31mKeyboardInterrupt\u001b[0m: "
     ]
    }
   ],
   "source": [
    "conv_tuner_hypband_6.search(train_garg_square, train_garg_labels, validation_data=(test_garg_square, test_garg_labels), callbacks=[stop_early, stop_failed])"
   ]
  },
  {
   "cell_type": "code",
   "execution_count": 85,
   "id": "e35604bf",
   "metadata": {
    "collapsed": true
   },
   "outputs": [
    {
     "name": "stdout",
     "output_type": "stream",
     "text": [
      "Results summary\n",
      "Results in my_dir\\intro_to_kt7\n",
      "Showing 10 best trials\n",
      "<keras_tuner.engine.objective.Objective object at 0x000001C7099858E0>\n",
      "Trial summary\n",
      "Hyperparameters:\n",
      "decay: 0.01\n",
      "dropout: 0.30000000000000004\n",
      "tuner/epochs: 50\n",
      "tuner/initial_epoch: 17\n",
      "tuner/bracket: 3\n",
      "tuner/round: 3\n",
      "tuner/trial_id: 0046\n",
      "Score: 0.9037925004959106\n",
      "Trial summary\n",
      "Hyperparameters:\n",
      "decay: 0.01\n",
      "dropout: 0.1\n",
      "tuner/epochs: 17\n",
      "tuner/initial_epoch: 6\n",
      "tuner/bracket: 3\n",
      "tuner/round: 2\n",
      "tuner/trial_id: 0035\n",
      "Score: 0.9022588133811951\n",
      "Trial summary\n",
      "Hyperparameters:\n",
      "decay: 0.01\n",
      "dropout: 0.2\n",
      "tuner/epochs: 6\n",
      "tuner/initial_epoch: 0\n",
      "tuner/bracket: 2\n",
      "tuner/round: 0\n",
      "Score: 0.8987730145454407\n",
      "Trial summary\n",
      "Hyperparameters:\n",
      "decay: 0.01\n",
      "dropout: 0.30000000000000004\n",
      "tuner/epochs: 6\n",
      "tuner/initial_epoch: 2\n",
      "tuner/bracket: 3\n",
      "tuner/round: 1\n",
      "tuner/trial_id: 0024\n",
      "Score: 0.8943111896514893\n",
      "Trial summary\n",
      "Hyperparameters:\n",
      "decay: 0.01\n",
      "dropout: 0.30000000000000004\n",
      "tuner/epochs: 17\n",
      "tuner/initial_epoch: 6\n",
      "tuner/bracket: 3\n",
      "tuner/round: 2\n",
      "tuner/trial_id: 0036\n",
      "Score: 0.8933351635932922\n",
      "Trial summary\n",
      "Hyperparameters:\n",
      "decay: 0.02\n",
      "dropout: 0.1\n",
      "tuner/epochs: 6\n",
      "tuner/initial_epoch: 2\n",
      "tuner/bracket: 3\n",
      "tuner/round: 1\n",
      "tuner/trial_id: 0015\n",
      "Score: 0.8931957483291626\n",
      "Trial summary\n",
      "Hyperparameters:\n",
      "decay: 0.03\n",
      "dropout: 0.30000000000000004\n",
      "tuner/epochs: 6\n",
      "tuner/initial_epoch: 0\n",
      "tuner/bracket: 2\n",
      "tuner/round: 0\n",
      "Score: 0.8905465602874756\n",
      "Trial summary\n",
      "Hyperparameters:\n",
      "decay: 0.02\n",
      "dropout: 0.4\n",
      "tuner/epochs: 6\n",
      "tuner/initial_epoch: 0\n",
      "tuner/bracket: 2\n",
      "tuner/round: 0\n",
      "Score: 0.889710009098053\n",
      "Trial summary\n",
      "Hyperparameters:\n",
      "decay: 0.01\n",
      "dropout: 0.1\n",
      "tuner/epochs: 6\n",
      "tuner/initial_epoch: 2\n",
      "tuner/bracket: 3\n",
      "tuner/round: 1\n",
      "tuner/trial_id: 0006\n",
      "Score: 0.8867819309234619\n",
      "Trial summary\n",
      "Hyperparameters:\n",
      "decay: 0.02\n",
      "dropout: 0.2\n",
      "tuner/epochs: 6\n",
      "tuner/initial_epoch: 2\n",
      "tuner/bracket: 3\n",
      "tuner/round: 1\n",
      "tuner/trial_id: 0030\n",
      "Score: 0.8863636255264282\n"
     ]
    }
   ],
   "source": [
    "conv_tuner_hypband_4.results_summary()"
   ]
  },
  {
   "cell_type": "markdown",
   "id": "1a0f2c76",
   "metadata": {},
   "source": [
    "I was surprised at how poorly the early models generalised to the test set, compared to the training set, where they frequently got accuracy between 0.98 and 1 after just a few epochs. Eventually I tried making a test/train split just within the \"sign_mnist_train\" dataset; on this split the model's accuracy was the same on both parts. Then I tried mixing the two \"sign_mnist\" datasets and making a different test/train split from it, with the same result. Evidently the dataset author did do something different in processing their test image set, which they did not mention. I have mixed feelings about this."
   ]
  },
  {
   "cell_type": "code",
   "execution_count": 88,
   "id": "7fad9cad",
   "metadata": {},
   "outputs": [],
   "source": [
    "from sklearn.model_selection import train_test_split"
   ]
  },
  {
   "cell_type": "code",
   "execution_count": 89,
   "id": "486bc955",
   "metadata": {},
   "outputs": [
    {
     "name": "stdout",
     "output_type": "stream",
     "text": [
      "(34627, 785)\n"
     ]
    }
   ],
   "source": [
    "mixed_temp = pd.concat([train_garg, test_garg], ignore_index=True)\n",
    "print(mixed_temp.shape)"
   ]
  },
  {
   "cell_type": "code",
   "execution_count": 90,
   "id": "656ad50e",
   "metadata": {},
   "outputs": [],
   "source": [
    "train_temp, test_temp = train_test_split(mixed_temp)\n",
    "\n",
    "train_temp_square = train_temp.drop('label',axis=1).to_numpy().reshape((train_temp.shape[0], 28, 28))\n",
    "test_temp_square = test_temp.drop('label',axis=1).to_numpy().reshape((test_temp.shape[0],28,28))\n",
    "\n",
    "train_temp_square = np.float32(train_temp_square) / 255\n",
    "test_temp_square = np.float32(test_temp_square) / 255\n",
    "\n",
    "train_temp_labels = train_temp['label'].to_numpy()\n",
    "test_temp_labels = test_temp['label'].to_numpy()"
   ]
  },
  {
   "cell_type": "code",
   "execution_count": 96,
   "id": "e4c03421",
   "metadata": {},
   "outputs": [],
   "source": [
    "model = conv_model_builder_mk4(conv_tuner_hypband_4.get_best_hyperparameters()[0])"
   ]
  },
  {
   "cell_type": "code",
   "execution_count": 97,
   "id": "fb4d1a0e",
   "metadata": {},
   "outputs": [
    {
     "name": "stdout",
     "output_type": "stream",
     "text": [
      "812/812 [==============================] - 158s 193ms/step - loss: 3.8487 - accuracy: 0.5992\n",
      "271/271 - 12s - loss: 2.1316 - accuracy: 0.8798 - 12s/epoch - 45ms/step\n",
      "812/812 [==============================] - 159s 195ms/step - loss: 1.5749 - accuracy: 0.9254\n",
      "271/271 - 12s - loss: 1.0721 - accuracy: 0.9876 - 12s/epoch - 46ms/step\n",
      "812/812 [==============================] - 161s 199ms/step - loss: 0.8711 - accuracy: 0.9821\n",
      "271/271 - 13s - loss: 0.6501 - accuracy: 0.9998 - 13s/epoch - 49ms/step\n",
      "812/812 [==============================] - 162s 200ms/step - loss: 0.5668 - accuracy: 0.9943\n",
      "271/271 - 12s - loss: 0.4610 - accuracy: 0.9991 - 12s/epoch - 46ms/step\n",
      "812/812 [==============================] - 162s 200ms/step - loss: 0.4260 - accuracy: 0.9964\n",
      "271/271 - 12s - loss: 0.3665 - accuracy: 0.9999 - 12s/epoch - 45ms/step\n"
     ]
    }
   ],
   "source": [
    "epochs = 5\n",
    "for i in range(0,epochs):\n",
    "    model.fit(train_temp_square, train_temp_labels, epochs = 1)\n",
    "    model.evaluate(test_temp_square, test_temp_labels, verbose=2)\n",
    "    \n",
    "# val_acc reported is larger than immediately preceding acc on the training set because the latter is some kind of \n",
    "# average over the training epoch, while the former is computed only from the model at the epoch's end"
   ]
  },
  {
   "cell_type": "code",
   "execution_count": 98,
   "id": "328df7e7",
   "metadata": {},
   "outputs": [
    {
     "name": "stdout",
     "output_type": "stream",
     "text": [
      "(25970, 28, 28) (8657, 28, 28)\n"
     ]
    }
   ],
   "source": [
    "print(train_temp_square.shape, test_temp_square.shape)"
   ]
  },
  {
   "cell_type": "code",
   "execution_count": 99,
   "id": "b50ec437",
   "metadata": {},
   "outputs": [
    {
     "data": {
      "text/plain": [
       "set()"
      ]
     },
     "execution_count": 99,
     "metadata": {},
     "output_type": "execute_result"
    }
   ],
   "source": [
    "{a for a in train_temp.index if a in test_temp.index}"
   ]
  },
  {
   "cell_type": "code",
   "execution_count": 94,
   "id": "6098ce66",
   "metadata": {},
   "outputs": [],
   "source": [
    "# this baby model doesn't reach the same accuracy, but it likewise has zero generalisation error on this data split\n",
    "tiny_model = tf.keras.Sequential([tf.keras.layers.Flatten(input_shape = (28,28,1)),  \n",
    "                            tf.keras.layers.Dense(128, activation='relu'), \n",
    "                            tf.keras.layers.Dense(25),\n",
    "                            tf.keras.layers.Softmax()])\n",
    "\n",
    "tiny_model.compile(optimizer=tf.keras.optimizers.Adam(learning_rate=0.0001),\n",
    "                loss=tf.keras.losses.SparseCategoricalCrossentropy(),\n",
    "                metrics=['accuracy'])"
   ]
  },
  {
   "cell_type": "code",
   "execution_count": 95,
   "id": "b6b9b767",
   "metadata": {},
   "outputs": [
    {
     "name": "stdout",
     "output_type": "stream",
     "text": [
      "812/812 [==============================] - 1s 1ms/step - loss: 2.8720 - accuracy: 0.2052\n",
      "271/271 - 0s - loss: 2.5121 - accuracy: 0.3504 - 361ms/epoch - 1ms/step\n",
      "812/812 [==============================] - 1s 1ms/step - loss: 2.2293 - accuracy: 0.4395\n",
      "271/271 - 0s - loss: 2.0093 - accuracy: 0.4895 - 280ms/epoch - 1ms/step\n",
      "812/812 [==============================] - 1s 1ms/step - loss: 1.8430 - accuracy: 0.5369\n",
      "271/271 - 0s - loss: 1.7188 - accuracy: 0.5623 - 260ms/epoch - 961us/step\n",
      "812/812 [==============================] - 1s 1ms/step - loss: 1.6004 - accuracy: 0.5891\n",
      "271/271 - 0s - loss: 1.5184 - accuracy: 0.5963 - 250ms/epoch - 922us/step\n",
      "812/812 [==============================] - 1s 1ms/step - loss: 1.4304 - accuracy: 0.6317\n",
      "271/271 - 0s - loss: 1.3636 - accuracy: 0.6615 - 251ms/epoch - 926us/step\n",
      "812/812 [==============================] - 1s 1ms/step - loss: 1.3042 - accuracy: 0.6637\n",
      "271/271 - 0s - loss: 1.2660 - accuracy: 0.6649 - 251ms/epoch - 928us/step\n",
      "812/812 [==============================] - 1s 1ms/step - loss: 1.2024 - accuracy: 0.6900\n",
      "271/271 - 0s - loss: 1.1633 - accuracy: 0.6905 - 247ms/epoch - 913us/step\n",
      "812/812 [==============================] - 1s 1ms/step - loss: 1.1181 - accuracy: 0.7118\n",
      "271/271 - 0s - loss: 1.0841 - accuracy: 0.7120 - 240ms/epoch - 885us/step\n",
      "812/812 [==============================] - 1s 1ms/step - loss: 1.0430 - accuracy: 0.7343\n",
      "271/271 - 0s - loss: 1.0326 - accuracy: 0.7223 - 243ms/epoch - 898us/step\n",
      "812/812 [==============================] - 1s 1ms/step - loss: 0.9792 - accuracy: 0.7511\n",
      "271/271 - 0s - loss: 0.9604 - accuracy: 0.7553 - 245ms/epoch - 905us/step\n"
     ]
    }
   ],
   "source": [
    "epochs = 10\n",
    "for i in range(0,epochs):\n",
    "    tiny_model.fit(train_temp_square, train_temp_labels, epochs = 1)\n",
    "    tiny_model.evaluate(test_temp_square, test_temp_labels, verbose=2)"
   ]
  },
  {
   "cell_type": "code",
   "execution_count": 103,
   "id": "a57a5e8a",
   "metadata": {},
   "outputs": [
    {
     "data": {
      "text/plain": [
       "(5, 5, 1, 120)"
      ]
     },
     "execution_count": 103,
     "metadata": {},
     "output_type": "execute_result"
    }
   ],
   "source": [
    "test_weights = model.get_weights()[0]\n",
    "test_weights.shape"
   ]
  },
  {
   "cell_type": "code",
   "execution_count": 110,
   "id": "08e1e230",
   "metadata": {},
   "outputs": [
    {
     "data": {
      "text/plain": [
       "dtype('float32')"
      ]
     },
     "execution_count": 110,
     "metadata": {},
     "output_type": "execute_result"
    }
   ],
   "source": [
    "test_weights.dtype"
   ]
  },
  {
   "cell_type": "code",
   "execution_count": 111,
   "id": "c3431db1",
   "metadata": {},
   "outputs": [],
   "source": [
    "test_filters = np.split(test_weights, 120, axis=3)\n",
    "test_filters = np.squeeze(test_filters)"
   ]
  },
  {
   "cell_type": "code",
   "execution_count": 112,
   "id": "ad00ccf3",
   "metadata": {},
   "outputs": [
    {
     "data": {
      "image/png": "[encoded data removed]",
      "text/plain": [
       "<Figure size 432x288 with 59 Axes>"
      ]
     },
     "metadata": {
      "needs_background": "light"
     },
     "output_type": "display_data"
    }
   ],
   "source": [
    "for i in range(1,60):\n",
    "    plt.subplot(10,6,i)\n",
    "    plt.imshow(test_filters[i])"
   ]
  },
  {
   "cell_type": "code",
   "execution_count": 113,
   "id": "4d7dde83",
   "metadata": {},
   "outputs": [
    {
     "data": {
      "image/png": "[encoded data removed]",
      "text/plain": [
       "<Figure size 432x288 with 59 Axes>"
      ]
     },
     "metadata": {
      "needs_background": "light"
     },
     "output_type": "display_data"
    }
   ],
   "source": [
    "for i in range(1,60):\n",
    "    plt.subplot(10,6,i)\n",
    "    plt.imshow(test_filters[i+59])"
   ]
  },
  {
   "cell_type": "markdown",
   "id": "cba0d54a",
   "metadata": {},
   "source": [
    "<h3>Customised blocks</h3>"
   ]
  },
  {
   "cell_type": "code",
   "execution_count": 20,
   "id": "1eaf8676",
   "metadata": {},
   "outputs": [
    {
     "data": {
      "text/plain": [
       "(60000, 28, 28, 1)"
      ]
     },
     "execution_count": 20,
     "metadata": {},
     "output_type": "execute_result"
    }
   ],
   "source": [
    "fashion_train_images = np.expand_dims(fashion_train_images, 3)\n",
    "fashion_test_images = np.expand_dims(fashion_test_images,3)\n",
    "fashion_train_images.shape"
   ]
  },
  {
   "cell_type": "code",
   "execution_count": 31,
   "id": "be433343",
   "metadata": {},
   "outputs": [],
   "source": [
    "class testBlock(tf.keras.Model):\n",
    "    def __init__(self, labels, filters, rec_field):\n",
    "        super(testBlock, self).__init__()\n",
    "        \n",
    "        self.conv_1 = tf.keras.layers.Convolution2D(filters, rec_field, padding='same', use_bias=True, activation='tanh')\n",
    "        self.conv_2 = tf.keras.layers.Convolution2D(filters, rec_field, padding='same', use_bias=True, activation='tanh')\n",
    "        self.conv_3 = tf.keras.layers.Convolution2D(filters, rec_field, padding='same', use_bias=True, activation='tanh')\n",
    "        self.collate = tf.keras.layers.Dense(labels, activation='softmax')\n",
    "        \n",
    "    def call(self, input_tensor):\n",
    "        out_base = self.conv_1(input_tensor)\n",
    "        out = self.conv_2(out_base)\n",
    "        out = tf.raw_ops.Concat(concat_dim=3, values=[out, out_base]) # skip connection\n",
    "        out = self.conv_3(out)\n",
    "        out = tf.keras.layers.MaxPool2D(strides=(2,2))(out)\n",
    "        out = tf.keras.layers.Flatten()(out)\n",
    "        out = self.collate(out)\n",
    "        return out       "
   ]
  },
  {
   "cell_type": "code",
   "execution_count": 32,
   "id": "93615ef4",
   "metadata": {},
   "outputs": [],
   "source": [
    "testModel = testBlock(10, 32, 3)\n",
    "\n",
    "testModel.compile(optimizer='adam',\n",
    "              loss=tf.keras.losses.SparseCategoricalCrossentropy(),\n",
    "              metrics=['accuracy'])"
   ]
  },
  {
   "cell_type": "code",
   "execution_count": 34,
   "id": "fe172bb7",
   "metadata": {},
   "outputs": [
    {
     "name": "stdout",
     "output_type": "stream",
     "text": [
      "Epoch 1/3\n",
      "1875/1875 [==============================] - 120s 64ms/step - loss: 0.3320 - accuracy: 0.8839\n",
      "Epoch 2/3\n",
      "1875/1875 [==============================] - 153s 82ms/step - loss: 0.2691 - accuracy: 0.9056\n",
      "Epoch 3/3\n",
      "1875/1875 [==============================] - 219s 117ms/step - loss: 0.2384 - accuracy: 0.9151\n"
     ]
    },
    {
     "data": {
      "text/plain": [
       "<keras.callbacks.History at 0x23f44f9adf0>"
      ]
     },
     "execution_count": 34,
     "metadata": {},
     "output_type": "execute_result"
    }
   ],
   "source": [
    "testModel.fit(fashion_train_images, fashion_train_labels, epochs=3)"
   ]
  },
  {
   "cell_type": "code",
   "execution_count": 35,
   "id": "79e751e3",
   "metadata": {},
   "outputs": [
    {
     "name": "stdout",
     "output_type": "stream",
     "text": [
      "313/313 - 11s - loss: 0.3085 - accuracy: 0.8887 - 11s/epoch - 34ms/step\n"
     ]
    },
    {
     "data": {
      "text/plain": [
       "[0.3084518611431122, 0.888700008392334]"
      ]
     },
     "execution_count": 35,
     "metadata": {},
     "output_type": "execute_result"
    }
   ],
   "source": [
    "testModel.evaluate(fashion_test_images,  fashion_test_labels, verbose=2)"
   ]
  },
  {
   "cell_type": "code",
   "execution_count": 36,
   "id": "754f8d34",
   "metadata": {},
   "outputs": [
    {
     "name": "stdout",
     "output_type": "stream",
     "text": [
      "Model: \"test_block_5\"\n",
      "_________________________________________________________________\n",
      " Layer (type)                Output Shape              Param #   \n",
      "=================================================================\n",
      " conv2d_15 (Conv2D)          multiple                  320       \n",
      "                                                                 \n",
      " conv2d_16 (Conv2D)          multiple                  9248      \n",
      "                                                                 \n",
      " conv2d_17 (Conv2D)          multiple                  18464     \n",
      "                                                                 \n",
      " dense_5 (Dense)             multiple                  62730     \n",
      "                                                                 \n",
      "=================================================================\n",
      "Total params: 90,762\n",
      "Trainable params: 90,762\n",
      "Non-trainable params: 0\n",
      "_________________________________________________________________\n"
     ]
    }
   ],
   "source": [
    "testModel.summary()"
   ]
  },
  {
   "cell_type": "code",
   "execution_count": null,
   "id": "38c0e422",
   "metadata": {},
   "outputs": [],
   "source": []
  }
 ],
 "metadata": {
  "kernelspec": {
   "display_name": "Python 3 (ipykernel)",
   "language": "python",
   "name": "python3"
  },
  "language_info": {
   "codemirror_mode": {
    "name": "ipython",
    "version": 3
   },
   "file_extension": ".py",
   "mimetype": "text/x-python",
   "name": "python",
   "nbconvert_exporter": "python",
   "pygments_lexer": "ipython3",
   "version": "3.9.12"
  }
 },
 "nbformat": 4,
 "nbformat_minor": 5
}
