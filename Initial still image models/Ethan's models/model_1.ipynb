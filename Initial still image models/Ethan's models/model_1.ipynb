{
 "cells": [
  {
   "cell_type": "code",
   "execution_count": 1,
   "metadata": {},
   "outputs": [],
   "source": [
    "import numpy as np\n",
    "import cv2 as cv\n",
    "from pathlib import Path"
   ]
  },
  {
   "cell_type": "code",
   "execution_count": 2,
   "metadata": {},
   "outputs": [],
   "source": [
    "keywords={'dataset':['cap','dis','grass','mav1','mav2','urgarg'],'subgroup':['none'], 'colour':['greyscale','rbg','bgr'], \n",
    "          'crop':['close','none'], 'size':['small','large','128'], 'shape':['square', 'rectangle'],\n",
    "         'fill':['gauss','uniform','int','zeros']}"
   ]
  },
  {
   "cell_type": "code",
   "execution_count": 3,
   "metadata": {},
   "outputs": [],
   "source": [
    "images = []\n",
    "labels = []"
   ]
  },
  {
   "cell_type": "code",
   "execution_count": 19,
   "metadata": {},
   "outputs": [],
   "source": [
    "path = \"../../../asl_datasets/dis\""
   ]
  },
  {
   "cell_type": "code",
   "execution_count": 4,
   "metadata": {},
   "outputs": [],
   "source": [
    "d=Path('../../../asl_datasets/dis/')"
   ]
  },
  {
   "cell_type": "code",
   "execution_count": 33,
   "metadata": {},
   "outputs": [],
   "source": [
    "for sign in all_files:\n",
    "    for file in sign.iterdir():\n",
    "        images.append(cv.imread(str(file)))\n",
    "        labels.append({'dataset':'dis', 'subgroup':file.name[0:5], 'sign':sign.stem, \n",
    "                       'colour': 'bgr', 'crop': 'close', 'size':'large', 'shape':'square'})"
   ]
  },
  {
   "cell_type": "code",
   "execution_count": 8,
   "metadata": {},
   "outputs": [
    {
     "name": "stdout",
     "output_type": "stream",
     "text": [
      "../../../asl_datasets/dis/r\n",
      "../../../asl_datasets/dis/u\n",
      "../../../asl_datasets/dis/9\n",
      "../../../asl_datasets/dis/0\n",
      "../../../asl_datasets/dis/7\n",
      "../../../asl_datasets/dis/i\n",
      "../../../asl_datasets/dis/n\n",
      "../../../asl_datasets/dis/g\n",
      "../../../asl_datasets/dis/6\n",
      "../../../asl_datasets/dis/z\n",
      "../../../asl_datasets/dis/1\n",
      "../../../asl_datasets/dis/8\n",
      "../../../asl_datasets/dis/t\n",
      "../../../asl_datasets/dis/s\n",
      "../../../asl_datasets/dis/a\n",
      "../../../asl_datasets/dis/f\n",
      "../../../asl_datasets/dis/o\n",
      "../../../asl_datasets/dis/h\n",
      "../../../asl_datasets/dis/m\n",
      "../../../asl_datasets/dis/j\n",
      "../../../asl_datasets/dis/c\n",
      "../../../asl_datasets/dis/d\n",
      "../../../asl_datasets/dis/v\n",
      "../../../asl_datasets/dis/q\n",
      "../../../asl_datasets/dis/4\n",
      "../../../asl_datasets/dis/x\n",
      "../../../asl_datasets/dis/3\n",
      "../../../asl_datasets/dis/e\n",
      "../../../asl_datasets/dis/b\n",
      "../../../asl_datasets/dis/k\n",
      "../../../asl_datasets/dis/l\n",
      "../../../asl_datasets/dis/2\n",
      "../../../asl_datasets/dis/y\n",
      "../../../asl_datasets/dis/5\n",
      "../../../asl_datasets/dis/p\n",
      "../../../asl_datasets/dis/w\n"
     ]
    }
   ],
   "source": [
    "for sign in d.iterdir():\n",
    "    if str(sign)[26] != '.':\n",
    "        print(sign)"
   ]
  },
  {
   "cell_type": "code",
   "execution_count": 7,
   "metadata": {},
   "outputs": [
    {
     "name": "stdout",
     "output_type": "stream",
     "text": [
      ".DS_Store\n",
      "r\n",
      "u\n",
      "9\n",
      "0\n",
      "7\n",
      "i\n",
      "n\n",
      "g\n",
      "6\n",
      "z\n",
      "1\n",
      "8\n",
      "t\n",
      "s\n",
      "a\n",
      "f\n",
      "o\n",
      "h\n",
      "m\n",
      "j\n",
      "c\n",
      "d\n",
      "v\n",
      "q\n",
      "4\n",
      "x\n",
      "3\n",
      "e\n",
      "b\n",
      "k\n",
      "l\n",
      "2\n",
      "y\n",
      "5\n",
      "p\n",
      "w\n"
     ]
    }
   ],
   "source": [
    "for sign in d.iterdir():\n",
    "    print(str(sign)[26:])"
   ]
  },
  {
   "cell_type": "code",
   "execution_count": 9,
   "metadata": {},
   "outputs": [],
   "source": [
    "for sign in d.iterdir():\n",
    "    if str(sign)[26] != '.':\n",
    "        for file in sign.iterdir():\n",
    "            images.append(cv.imread(str(file)))\n",
    "            labels.append({'dataset':'dis', 'subgroup':file.name[0:5], 'sign':sign.stem, \n",
    "                       'colour': 'bgr', 'crop': 'close', 'size':'large', 'shape':'square'})"
   ]
  },
  {
   "cell_type": "code",
   "execution_count": 10,
   "metadata": {},
   "outputs": [
    {
     "name": "stdout",
     "output_type": "stream",
     "text": [
      "2515 2515\n"
     ]
    }
   ],
   "source": [
    "print(len(images), len(labels))\n"
   ]
  },
  {
   "cell_type": "code",
   "execution_count": null,
   "metadata": {},
   "outputs": [],
   "source": [
    "np.save(\"datasets/img_dis.npy\", images)\n",
    "np.save(\"datasets/lbl_dis.npy\", labels)"
   ]
  }
 ],
 "metadata": {
  "kernelspec": {
   "display_name": "Python 3.9.12 ('base')",
   "language": "python",
   "name": "python3"
  },
  "language_info": {
   "codemirror_mode": {
    "name": "ipython",
    "version": 3
   },
   "file_extension": ".py",
   "mimetype": "text/x-python",
   "name": "python",
   "nbconvert_exporter": "python",
   "pygments_lexer": "ipython3",
   "version": "3.9.12"
  },
  "orig_nbformat": 4,
  "vscode": {
   "interpreter": {
    "hash": "1c452e763028db92424a1175d699ff5e0725780886d15c6f44eb3a879cb3830b"
   }
  }
 },
 "nbformat": 4,
 "nbformat_minor": 2
}
